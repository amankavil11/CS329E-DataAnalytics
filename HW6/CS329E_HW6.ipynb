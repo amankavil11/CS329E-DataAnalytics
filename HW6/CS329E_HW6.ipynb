{
 "cells": [
  {
   "attachments": {},
   "cell_type": "markdown",
   "metadata": {
    "id": "5evkb8bFiWYd"
   },
   "source": [
    "## C S 329E HW 6\n",
    "\n",
    "# KNN \n",
    "\n",
    "## Abe Mankavil (Group 22)\n",
    "\n",
    "For this week's homework we are going explore one new classification technique:\n",
    "\n",
    "  - k nearest neighbors\n",
    "\n",
    "We are using a different version of the Melbourne housing data set, to predict the housing type as one of three possible categories:\n",
    "\n",
    "  - 'h' house\n",
    "  - 'u' duplex\n",
    "  - 't' townhouse\n",
    "\n",
    "At the end of this homework, I expect you to understand how to build and use a kNN model, and practice your data cleaning and data preparation skills. "
   ]
  },
  {
   "cell_type": "code",
   "execution_count": 264,
   "metadata": {
    "id": "wrhYTFMkiWYg"
   },
   "outputs": [
    {
     "data": {
      "text/html": [
       "<div>\n",
       "<style scoped>\n",
       "    .dataframe tbody tr th:only-of-type {\n",
       "        vertical-align: middle;\n",
       "    }\n",
       "\n",
       "    .dataframe tbody tr th {\n",
       "        vertical-align: top;\n",
       "    }\n",
       "\n",
       "    .dataframe thead th {\n",
       "        text-align: right;\n",
       "    }\n",
       "</style>\n",
       "<table border=\"1\" class=\"dataframe\">\n",
       "  <thead>\n",
       "    <tr style=\"text-align: right;\">\n",
       "      <th></th>\n",
       "      <th>Rooms</th>\n",
       "      <th>Type</th>\n",
       "      <th>Price</th>\n",
       "      <th>Date</th>\n",
       "      <th>Distance</th>\n",
       "      <th>Postcode</th>\n",
       "      <th>Bathroom</th>\n",
       "      <th>Car</th>\n",
       "      <th>Landsize</th>\n",
       "      <th>BuildingArea</th>\n",
       "      <th>YearBuilt</th>\n",
       "    </tr>\n",
       "  </thead>\n",
       "  <tbody>\n",
       "    <tr>\n",
       "      <th>0</th>\n",
       "      <td>2</td>\n",
       "      <td>h</td>\n",
       "      <td>399000</td>\n",
       "      <td>7/5/16</td>\n",
       "      <td>8.7</td>\n",
       "      <td>3032</td>\n",
       "      <td>1</td>\n",
       "      <td>1.0</td>\n",
       "      <td>904</td>\n",
       "      <td>53.0</td>\n",
       "      <td>1985.0</td>\n",
       "    </tr>\n",
       "    <tr>\n",
       "      <th>1</th>\n",
       "      <td>3</td>\n",
       "      <td>h</td>\n",
       "      <td>1241000</td>\n",
       "      <td>28/08/2016</td>\n",
       "      <td>13.9</td>\n",
       "      <td>3165</td>\n",
       "      <td>1</td>\n",
       "      <td>1.0</td>\n",
       "      <td>643</td>\n",
       "      <td>NaN</td>\n",
       "      <td>NaN</td>\n",
       "    </tr>\n",
       "    <tr>\n",
       "      <th>2</th>\n",
       "      <td>2</td>\n",
       "      <td>u</td>\n",
       "      <td>550000</td>\n",
       "      <td>8/7/17</td>\n",
       "      <td>3.0</td>\n",
       "      <td>3067</td>\n",
       "      <td>1</td>\n",
       "      <td>1.0</td>\n",
       "      <td>1521</td>\n",
       "      <td>NaN</td>\n",
       "      <td>NaN</td>\n",
       "    </tr>\n",
       "    <tr>\n",
       "      <th>3</th>\n",
       "      <td>3</td>\n",
       "      <td>u</td>\n",
       "      <td>691000</td>\n",
       "      <td>24/06/2017</td>\n",
       "      <td>8.4</td>\n",
       "      <td>3072</td>\n",
       "      <td>1</td>\n",
       "      <td>1.0</td>\n",
       "      <td>170</td>\n",
       "      <td>NaN</td>\n",
       "      <td>NaN</td>\n",
       "    </tr>\n",
       "    <tr>\n",
       "      <th>4</th>\n",
       "      <td>2</td>\n",
       "      <td>u</td>\n",
       "      <td>657500</td>\n",
       "      <td>19/11/2016</td>\n",
       "      <td>4.6</td>\n",
       "      <td>3122</td>\n",
       "      <td>1</td>\n",
       "      <td>1.0</td>\n",
       "      <td>728</td>\n",
       "      <td>73.0</td>\n",
       "      <td>1965.0</td>\n",
       "    </tr>\n",
       "  </tbody>\n",
       "</table>\n",
       "</div>"
      ],
      "text/plain": [
       "   Rooms Type    Price        Date  Distance  Postcode  Bathroom  Car  \\\n",
       "0      2    h   399000      7/5/16       8.7      3032         1  1.0   \n",
       "1      3    h  1241000  28/08/2016      13.9      3165         1  1.0   \n",
       "2      2    u   550000      8/7/17       3.0      3067         1  1.0   \n",
       "3      3    u   691000  24/06/2017       8.4      3072         1  1.0   \n",
       "4      2    u   657500  19/11/2016       4.6      3122         1  1.0   \n",
       "\n",
       "   Landsize  BuildingArea  YearBuilt  \n",
       "0       904          53.0     1985.0  \n",
       "1       643           NaN        NaN  \n",
       "2      1521           NaN        NaN  \n",
       "3       170           NaN        NaN  \n",
       "4       728          73.0     1965.0  "
      ]
     },
     "execution_count": 264,
     "metadata": {},
     "output_type": "execute_result"
    }
   ],
   "source": [
    "# These are the libraries you will use for this assignment\n",
    "import pandas as pd\n",
    "import numpy as np\n",
    "import matplotlib.pyplot as plt\n",
    "import time\n",
    "import calendar\n",
    "%matplotlib inline\n",
    "\n",
    "# Starting off loading a training set\n",
    "df_melb = pd.read_csv('https://gist.githubusercontent.com/yanyanzheng96/81b236aecee57f6cf65e60afd865d2bb/raw/56ddb53aa90c26ab1bdbfd0b8d8229c8d08ce45a/melb_data_train.csv')\n",
    "df_melb.head()"
   ]
  },
  {
   "cell_type": "markdown",
   "metadata": {
    "id": "2rw1B5h1iWYg"
   },
   "source": [
    "## Q1 - Fix a column of data to be numeric\n",
    "If we inspect our dataframe, `df_melb` using the `dtypes` method, we see that the column \"Date\" is an object.  However, we think this column might contain useful information so we want to convert it to [seconds since epoch](https://en.wikipedia.org/wiki/Unix_time). Use only the exiting imported libraries to create a new column \"unixtime\". Be careful, the date strings in the file might have some non-uniform formatting that you have to fix first.  Print out the min and max epoch time to check your work.  Drop the original \"Date\" column. Please use the python [reference for time](https://docs.python.org/3/library/time.html) to help you do the string to Unix time conversion. "
   ]
  },
  {
   "cell_type": "code",
   "execution_count": 265,
   "metadata": {
    "id": "n4SkJDJziWYh"
   },
   "outputs": [],
   "source": [
    "# normalize date accepts the date string as shown in the df_melb 'Date' column,\n",
    "# and returns a data in a standarized format\n",
    "def standardize_date(d):\n",
    "    converted_timestamp = pd.to_datetime(d,dayfirst=True).to_pydatetime()\n",
    "    timestamp_obj = time.strptime(str(converted_timestamp),'%Y-%m-%d %H:%M:%S')\n",
    "    return int(time.mktime(timestamp_obj))\n"
   ]
  },
  {
   "cell_type": "code",
   "execution_count": 266,
   "metadata": {
    "id": "ii_wRxQqiWYh"
   },
   "outputs": [
    {
     "name": "stdout",
     "output_type": "stream",
     "text": [
      "The min unixtime is 1454565600 and the max unixtime is 1506142800\n"
     ]
    }
   ],
   "source": [
    "df_melb['Date'] = df_melb['Date'].apply( lambda x : standardize_date(x)) \n",
    "df_melb['unixtime'] = df_melb['Date']\n",
    "df_melb = df_melb.drop(columns=\"Date\")\n",
    "print(\"The min unixtime is {:d} and the max unixtime is {:d}\".format(df_melb['unixtime'].min(),df_melb['unixtime'].max()))"
   ]
  },
  {
   "cell_type": "markdown",
   "metadata": {
    "id": "eWhusz2HiWYh"
   },
   "source": [
    "## Q2 Use Imputation to fill in missing values\n",
    "kNN doesn't work when the attributes are not valid for all of the attribute columns, so fill in all the missing values in `df_melb` with the mean of that column.  Save the mean of each column in a dictionary, `dict_imputation`, whose key is the attribute column name, so we can apply the same imputation to the test set later. Show your `dict_imputation` dictionary and the head of your `df_melb` dataframe.  The target classfication (aka the class label) is stored in the column `'Type'`, so we are going to define a variable target_col so we can reference the target_col using a variable. (hint: during imputation you skip the target column)"
   ]
  },
  {
   "cell_type": "code",
   "execution_count": 267,
   "metadata": {
    "id": "psBp7XPZiWYi"
   },
   "outputs": [],
   "source": [
    "target_col = 'Type'"
   ]
  },
  {
   "cell_type": "code",
   "execution_count": 268,
   "metadata": {
    "id": "5FE1bG12iWYi"
   },
   "outputs": [],
   "source": [
    "dict_imputation = dict()\n",
    "for col in df_melb.columns:\n",
    "    if col == target_col:\n",
    "        continue\n",
    "    dict_imputation[col] = round(df_melb[col].mean(),3)\n",
    "    df_melb[col].fillna(dict_imputation[col],inplace=True)"
   ]
  },
  {
   "cell_type": "code",
   "execution_count": 269,
   "metadata": {
    "id": "czFBtL7LiWYi"
   },
   "outputs": [
    {
     "data": {
      "text/plain": [
       "{'Rooms': 2.71,\n",
       " 'Price': 932558.7,\n",
       " 'Distance': 10.525,\n",
       " 'Postcode': 3113.122,\n",
       " 'Bathroom': 1.44,\n",
       " 'Car': 1.503,\n",
       " 'Landsize': 638.91,\n",
       " 'BuildingArea': 121.783,\n",
       " 'YearBuilt': 1970.942,\n",
       " 'unixtime': 1485197193.6}"
      ]
     },
     "execution_count": 269,
     "metadata": {},
     "output_type": "execute_result"
    }
   ],
   "source": [
    "dict_imputation"
   ]
  },
  {
   "cell_type": "code",
   "execution_count": 270,
   "metadata": {
    "id": "ij2llMatiWYi"
   },
   "outputs": [
    {
     "data": {
      "text/html": [
       "<div>\n",
       "<style scoped>\n",
       "    .dataframe tbody tr th:only-of-type {\n",
       "        vertical-align: middle;\n",
       "    }\n",
       "\n",
       "    .dataframe tbody tr th {\n",
       "        vertical-align: top;\n",
       "    }\n",
       "\n",
       "    .dataframe thead th {\n",
       "        text-align: right;\n",
       "    }\n",
       "</style>\n",
       "<table border=\"1\" class=\"dataframe\">\n",
       "  <thead>\n",
       "    <tr style=\"text-align: right;\">\n",
       "      <th></th>\n",
       "      <th>Rooms</th>\n",
       "      <th>Type</th>\n",
       "      <th>Price</th>\n",
       "      <th>Distance</th>\n",
       "      <th>Postcode</th>\n",
       "      <th>Bathroom</th>\n",
       "      <th>Car</th>\n",
       "      <th>Landsize</th>\n",
       "      <th>BuildingArea</th>\n",
       "      <th>YearBuilt</th>\n",
       "      <th>unixtime</th>\n",
       "    </tr>\n",
       "  </thead>\n",
       "  <tbody>\n",
       "    <tr>\n",
       "      <th>0</th>\n",
       "      <td>2</td>\n",
       "      <td>h</td>\n",
       "      <td>399000</td>\n",
       "      <td>8.7</td>\n",
       "      <td>3032</td>\n",
       "      <td>1</td>\n",
       "      <td>1.0</td>\n",
       "      <td>904</td>\n",
       "      <td>53.000</td>\n",
       "      <td>1985.000</td>\n",
       "      <td>1462597200</td>\n",
       "    </tr>\n",
       "    <tr>\n",
       "      <th>1</th>\n",
       "      <td>3</td>\n",
       "      <td>h</td>\n",
       "      <td>1241000</td>\n",
       "      <td>13.9</td>\n",
       "      <td>3165</td>\n",
       "      <td>1</td>\n",
       "      <td>1.0</td>\n",
       "      <td>643</td>\n",
       "      <td>121.783</td>\n",
       "      <td>1970.942</td>\n",
       "      <td>1472360400</td>\n",
       "    </tr>\n",
       "    <tr>\n",
       "      <th>2</th>\n",
       "      <td>2</td>\n",
       "      <td>u</td>\n",
       "      <td>550000</td>\n",
       "      <td>3.0</td>\n",
       "      <td>3067</td>\n",
       "      <td>1</td>\n",
       "      <td>1.0</td>\n",
       "      <td>1521</td>\n",
       "      <td>121.783</td>\n",
       "      <td>1970.942</td>\n",
       "      <td>1499490000</td>\n",
       "    </tr>\n",
       "    <tr>\n",
       "      <th>3</th>\n",
       "      <td>3</td>\n",
       "      <td>u</td>\n",
       "      <td>691000</td>\n",
       "      <td>8.4</td>\n",
       "      <td>3072</td>\n",
       "      <td>1</td>\n",
       "      <td>1.0</td>\n",
       "      <td>170</td>\n",
       "      <td>121.783</td>\n",
       "      <td>1970.942</td>\n",
       "      <td>1498280400</td>\n",
       "    </tr>\n",
       "    <tr>\n",
       "      <th>4</th>\n",
       "      <td>2</td>\n",
       "      <td>u</td>\n",
       "      <td>657500</td>\n",
       "      <td>4.6</td>\n",
       "      <td>3122</td>\n",
       "      <td>1</td>\n",
       "      <td>1.0</td>\n",
       "      <td>728</td>\n",
       "      <td>73.000</td>\n",
       "      <td>1965.000</td>\n",
       "      <td>1479535200</td>\n",
       "    </tr>\n",
       "  </tbody>\n",
       "</table>\n",
       "</div>"
      ],
      "text/plain": [
       "   Rooms Type    Price  Distance  Postcode  Bathroom  Car  Landsize  \\\n",
       "0      2    h   399000       8.7      3032         1  1.0       904   \n",
       "1      3    h  1241000      13.9      3165         1  1.0       643   \n",
       "2      2    u   550000       3.0      3067         1  1.0      1521   \n",
       "3      3    u   691000       8.4      3072         1  1.0       170   \n",
       "4      2    u   657500       4.6      3122         1  1.0       728   \n",
       "\n",
       "   BuildingArea  YearBuilt    unixtime  \n",
       "0        53.000   1985.000  1462597200  \n",
       "1       121.783   1970.942  1472360400  \n",
       "2       121.783   1970.942  1499490000  \n",
       "3       121.783   1970.942  1498280400  \n",
       "4        73.000   1965.000  1479535200  "
      ]
     },
     "execution_count": 270,
     "metadata": {},
     "output_type": "execute_result"
    }
   ],
   "source": [
    "df_melb.head()"
   ]
  },
  {
   "cell_type": "markdown",
   "metadata": {
    "id": "hOWfFm_kiWYi"
   },
   "source": [
    "## Q3 Normalize all the attributes to be between [0,1]\n",
    "Normalize all the attribute columns in `df_melb` so they have a value between zero and one (inclusive). Save the (min,max) tuple used to normalize to a dictionary, `dict_normalize`, so we can apply it to the test set later.  The dataframe `df_melb` is now your \"model\" that you can use to classify new data points. (hint: during normalization you skip the class label column)"
   ]
  },
  {
   "cell_type": "code",
   "execution_count": 271,
   "metadata": {
    "id": "Mrn7oGGAiWYj"
   },
   "outputs": [],
   "source": [
    "dict_normalize = dict()\n",
    "for col in df_melb.columns:\n",
    "    if col == target_col:\n",
    "        continue\n",
    "    dict_normalize[col] = (df_melb[col].min(),df_melb[col].max())\n",
    "    df_melb[col] = df_melb[col].apply(lambda x : (x-dict_normalize[col][0])/(dict_normalize[col][1]-dict_normalize[col][0]))"
   ]
  },
  {
   "cell_type": "code",
   "execution_count": 272,
   "metadata": {
    "id": "Y0Sfee1KiWYj"
   },
   "outputs": [
    {
     "data": {
      "text/plain": [
       "{'Rooms': (1, 6),\n",
       " 'Price': (291000, 5020000),\n",
       " 'Distance': (0.7, 47.3),\n",
       " 'Postcode': (3002, 3810),\n",
       " 'Bathroom': (0, 4),\n",
       " 'Car': (0.0, 4.0),\n",
       " 'Landsize': (0, 41400),\n",
       " 'BuildingArea': (0.0, 475.0),\n",
       " 'YearBuilt': (1890.0, 2015.0),\n",
       " 'unixtime': (1454565600, 1506142800)}"
      ]
     },
     "execution_count": 272,
     "metadata": {},
     "output_type": "execute_result"
    }
   ],
   "source": [
    "dict_normalize"
   ]
  },
  {
   "cell_type": "code",
   "execution_count": 273,
   "metadata": {
    "id": "pUSJttrbiWYj"
   },
   "outputs": [
    {
     "data": {
      "text/html": [
       "<div>\n",
       "<style scoped>\n",
       "    .dataframe tbody tr th:only-of-type {\n",
       "        vertical-align: middle;\n",
       "    }\n",
       "\n",
       "    .dataframe tbody tr th {\n",
       "        vertical-align: top;\n",
       "    }\n",
       "\n",
       "    .dataframe thead th {\n",
       "        text-align: right;\n",
       "    }\n",
       "</style>\n",
       "<table border=\"1\" class=\"dataframe\">\n",
       "  <thead>\n",
       "    <tr style=\"text-align: right;\">\n",
       "      <th></th>\n",
       "      <th>Rooms</th>\n",
       "      <th>Type</th>\n",
       "      <th>Price</th>\n",
       "      <th>Distance</th>\n",
       "      <th>Postcode</th>\n",
       "      <th>Bathroom</th>\n",
       "      <th>Car</th>\n",
       "      <th>Landsize</th>\n",
       "      <th>BuildingArea</th>\n",
       "      <th>YearBuilt</th>\n",
       "      <th>unixtime</th>\n",
       "    </tr>\n",
       "  </thead>\n",
       "  <tbody>\n",
       "    <tr>\n",
       "      <th>0</th>\n",
       "      <td>0.2</td>\n",
       "      <td>h</td>\n",
       "      <td>0.022838</td>\n",
       "      <td>0.171674</td>\n",
       "      <td>0.037129</td>\n",
       "      <td>0.25</td>\n",
       "      <td>0.25</td>\n",
       "      <td>0.021836</td>\n",
       "      <td>0.111579</td>\n",
       "      <td>0.760000</td>\n",
       "      <td>0.155720</td>\n",
       "    </tr>\n",
       "    <tr>\n",
       "      <th>1</th>\n",
       "      <td>0.4</td>\n",
       "      <td>h</td>\n",
       "      <td>0.200888</td>\n",
       "      <td>0.283262</td>\n",
       "      <td>0.201733</td>\n",
       "      <td>0.25</td>\n",
       "      <td>0.25</td>\n",
       "      <td>0.015531</td>\n",
       "      <td>0.256385</td>\n",
       "      <td>0.647536</td>\n",
       "      <td>0.345013</td>\n",
       "    </tr>\n",
       "    <tr>\n",
       "      <th>2</th>\n",
       "      <td>0.2</td>\n",
       "      <td>u</td>\n",
       "      <td>0.054768</td>\n",
       "      <td>0.049356</td>\n",
       "      <td>0.080446</td>\n",
       "      <td>0.25</td>\n",
       "      <td>0.25</td>\n",
       "      <td>0.036739</td>\n",
       "      <td>0.256385</td>\n",
       "      <td>0.647536</td>\n",
       "      <td>0.871013</td>\n",
       "    </tr>\n",
       "    <tr>\n",
       "      <th>3</th>\n",
       "      <td>0.4</td>\n",
       "      <td>u</td>\n",
       "      <td>0.084584</td>\n",
       "      <td>0.165236</td>\n",
       "      <td>0.086634</td>\n",
       "      <td>0.25</td>\n",
       "      <td>0.25</td>\n",
       "      <td>0.004106</td>\n",
       "      <td>0.256385</td>\n",
       "      <td>0.647536</td>\n",
       "      <td>0.847561</td>\n",
       "    </tr>\n",
       "    <tr>\n",
       "      <th>4</th>\n",
       "      <td>0.2</td>\n",
       "      <td>u</td>\n",
       "      <td>0.077501</td>\n",
       "      <td>0.083691</td>\n",
       "      <td>0.148515</td>\n",
       "      <td>0.25</td>\n",
       "      <td>0.25</td>\n",
       "      <td>0.017585</td>\n",
       "      <td>0.153684</td>\n",
       "      <td>0.600000</td>\n",
       "      <td>0.484121</td>\n",
       "    </tr>\n",
       "  </tbody>\n",
       "</table>\n",
       "</div>"
      ],
      "text/plain": [
       "   Rooms Type     Price  Distance  Postcode  Bathroom   Car  Landsize  \\\n",
       "0    0.2    h  0.022838  0.171674  0.037129      0.25  0.25  0.021836   \n",
       "1    0.4    h  0.200888  0.283262  0.201733      0.25  0.25  0.015531   \n",
       "2    0.2    u  0.054768  0.049356  0.080446      0.25  0.25  0.036739   \n",
       "3    0.4    u  0.084584  0.165236  0.086634      0.25  0.25  0.004106   \n",
       "4    0.2    u  0.077501  0.083691  0.148515      0.25  0.25  0.017585   \n",
       "\n",
       "   BuildingArea  YearBuilt  unixtime  \n",
       "0      0.111579   0.760000  0.155720  \n",
       "1      0.256385   0.647536  0.345013  \n",
       "2      0.256385   0.647536  0.871013  \n",
       "3      0.256385   0.647536  0.847561  \n",
       "4      0.153684   0.600000  0.484121  "
      ]
     },
     "execution_count": 273,
     "metadata": {},
     "output_type": "execute_result"
    }
   ],
   "source": [
    "df_melb.head()"
   ]
  },
  {
   "cell_type": "markdown",
   "metadata": {
    "id": "kBdbxrdsiWYj"
   },
   "source": [
    "## Q4 Load in the Test data and prep it for classification\n",
    "Everything we did to our \"train\" set, we need to now do in our \"test\" set. "
   ]
  },
  {
   "cell_type": "code",
   "execution_count": 274,
   "metadata": {
    "id": "paGv7AHmiWYj"
   },
   "outputs": [],
   "source": [
    "df_test = pd.read_csv('https://gist.githubusercontent.com/yanyanzheng96/c3d53303cebbd986b166591d19254bac/raw/94eb3b2d500d5f7bbc0441a8419cd855349d5d8e/melb_data_test.csv')"
   ]
  },
  {
   "cell_type": "code",
   "execution_count": 275,
   "metadata": {
    "id": "e5gvfwoYiWYk"
   },
   "outputs": [
    {
     "name": "stdout",
     "output_type": "stream",
     "text": [
      "The min unixtime is 1454565600 and the max unixtime is 1506142800\n"
     ]
    }
   ],
   "source": [
    "df_test['Date'] = df_test['Date'].apply( lambda x : standardize_date(x)) \n",
    "df_test['unixtime'] = df_test['Date']\n",
    "df_test = df_test.drop(columns=\"Date\")\n",
    "\n",
    "print(\"The min unixtime is {:d} and the max unixtime is {:d}\".format(df_test['unixtime'].min(),df_test['unixtime'].max()))"
   ]
  },
  {
   "cell_type": "code",
   "execution_count": 276,
   "metadata": {
    "id": "tKPl15PniWYk"
   },
   "outputs": [
    {
     "data": {
      "text/html": [
       "<div>\n",
       "<style scoped>\n",
       "    .dataframe tbody tr th:only-of-type {\n",
       "        vertical-align: middle;\n",
       "    }\n",
       "\n",
       "    .dataframe tbody tr th {\n",
       "        vertical-align: top;\n",
       "    }\n",
       "\n",
       "    .dataframe thead th {\n",
       "        text-align: right;\n",
       "    }\n",
       "</style>\n",
       "<table border=\"1\" class=\"dataframe\">\n",
       "  <thead>\n",
       "    <tr style=\"text-align: right;\">\n",
       "      <th></th>\n",
       "      <th>Rooms</th>\n",
       "      <th>Type</th>\n",
       "      <th>Price</th>\n",
       "      <th>Distance</th>\n",
       "      <th>Postcode</th>\n",
       "      <th>Bathroom</th>\n",
       "      <th>Car</th>\n",
       "      <th>Landsize</th>\n",
       "      <th>BuildingArea</th>\n",
       "      <th>YearBuilt</th>\n",
       "      <th>unixtime</th>\n",
       "    </tr>\n",
       "  </thead>\n",
       "  <tbody>\n",
       "    <tr>\n",
       "      <th>0</th>\n",
       "      <td>3</td>\n",
       "      <td>h</td>\n",
       "      <td>1116000</td>\n",
       "      <td>17.9</td>\n",
       "      <td>3192</td>\n",
       "      <td>1</td>\n",
       "      <td>2.0</td>\n",
       "      <td>610</td>\n",
       "      <td>121.783</td>\n",
       "      <td>1970.942</td>\n",
       "      <td>1498885200</td>\n",
       "    </tr>\n",
       "    <tr>\n",
       "      <th>1</th>\n",
       "      <td>3</td>\n",
       "      <td>h</td>\n",
       "      <td>2030000</td>\n",
       "      <td>11.2</td>\n",
       "      <td>3186</td>\n",
       "      <td>2</td>\n",
       "      <td>2.0</td>\n",
       "      <td>366</td>\n",
       "      <td>121.783</td>\n",
       "      <td>1970.942</td>\n",
       "      <td>1472360400</td>\n",
       "    </tr>\n",
       "    <tr>\n",
       "      <th>2</th>\n",
       "      <td>3</td>\n",
       "      <td>h</td>\n",
       "      <td>1480000</td>\n",
       "      <td>10.7</td>\n",
       "      <td>3187</td>\n",
       "      <td>2</td>\n",
       "      <td>2.0</td>\n",
       "      <td>697</td>\n",
       "      <td>143.000</td>\n",
       "      <td>1925.000</td>\n",
       "      <td>1478498400</td>\n",
       "    </tr>\n",
       "    <tr>\n",
       "      <th>3</th>\n",
       "      <td>3</td>\n",
       "      <td>u</td>\n",
       "      <td>1203500</td>\n",
       "      <td>12.3</td>\n",
       "      <td>3166</td>\n",
       "      <td>2</td>\n",
       "      <td>2.0</td>\n",
       "      <td>311</td>\n",
       "      <td>127.000</td>\n",
       "      <td>2000.000</td>\n",
       "      <td>1495861200</td>\n",
       "    </tr>\n",
       "    <tr>\n",
       "      <th>4</th>\n",
       "      <td>3</td>\n",
       "      <td>h</td>\n",
       "      <td>540000</td>\n",
       "      <td>14.7</td>\n",
       "      <td>3030</td>\n",
       "      <td>2</td>\n",
       "      <td>2.0</td>\n",
       "      <td>353</td>\n",
       "      <td>135.000</td>\n",
       "      <td>2011.000</td>\n",
       "      <td>1504414800</td>\n",
       "    </tr>\n",
       "  </tbody>\n",
       "</table>\n",
       "</div>"
      ],
      "text/plain": [
       "   Rooms Type    Price  Distance  Postcode  Bathroom  Car  Landsize  \\\n",
       "0      3    h  1116000      17.9      3192         1  2.0       610   \n",
       "1      3    h  2030000      11.2      3186         2  2.0       366   \n",
       "2      3    h  1480000      10.7      3187         2  2.0       697   \n",
       "3      3    u  1203500      12.3      3166         2  2.0       311   \n",
       "4      3    h   540000      14.7      3030         2  2.0       353   \n",
       "\n",
       "   BuildingArea  YearBuilt    unixtime  \n",
       "0       121.783   1970.942  1498885200  \n",
       "1       121.783   1970.942  1472360400  \n",
       "2       143.000   1925.000  1478498400  \n",
       "3       127.000   2000.000  1495861200  \n",
       "4       135.000   2011.000  1504414800  "
      ]
     },
     "execution_count": 276,
     "metadata": {},
     "output_type": "execute_result"
    }
   ],
   "source": [
    "# Your code here for imputation - must use dictionary from above!\n",
    "\n",
    "for col in df_test.columns:\n",
    "    if col == target_col:\n",
    "        continue\n",
    "    df_test[col].fillna(dict_imputation[col],inplace=True)\n",
    "df_test.head()"
   ]
  },
  {
   "cell_type": "code",
   "execution_count": 277,
   "metadata": {
    "id": "VgRAbk0jiWYk"
   },
   "outputs": [],
   "source": [
    "# Your code here for scaling - must use dictionary from above!\n",
    "for col in df_test.columns:\n",
    "    if col == target_col:\n",
    "        continue\n",
    "    df_test[col] = df_test[col].apply(lambda x : (x-dict_normalize[col][0])/(dict_normalize[col][1]-dict_normalize[col][0]))\n"
   ]
  },
  {
   "cell_type": "markdown",
   "metadata": {
    "id": "fhCEsXSSiWYk"
   },
   "source": [
    "## Q5 Write the kNN classifier function\n",
    "Your function `knn_class`, should take five parameters, the training dataframe (that includes the target column), the hyper parameter `k`, the name of the target column, a single observation row (a series or attributes the same length as the attributes in `df_train`) of the test dataframe, and a boolean `use_weighted_vote`.  When `use_weighted_vote` is set to true, use weighted voting, otherwise use majority voting. We are assuming that the parameter `df_train` contains all of the attributes, and the target class in the same dataframe. The function returns the predicted target classification for that observation. To find the distance between the single observation and the training data frame you should use the [L2 norm](https://numpy.org/doc/stable/reference/generated/numpy.linalg.norm.html)"
   ]
  },
  {
   "cell_type": "code",
   "execution_count": 278,
   "metadata": {
    "id": "tfUThP_tiWYl"
   },
   "outputs": [],
   "source": [
    "def knn_class(df_train, k, target_col, observation, use_weighted_vote ):\n",
    "   validation = df_train[target_col].copy()\n",
    "   train = df_train.drop([target_col], axis=1)\n",
    "   observed_clean = observation.drop([target_col])\n",
    "   norms = np.linalg.norm((train-observed_clean).astype(float), axis=1)\n",
    "   idx = np.argpartition(norms,k)[:k]\n",
    "   if use_weighted_vote:\n",
    "      weighted_sum = {key: 0 for key in validation.value_counts().index}\n",
    "      weights = 1/(norms**2)\n",
    "      for i in idx:\n",
    "         weighted_sum[validation[i]] += weights[i]\n",
    "      return max(weighted_sum, key=weighted_sum.get)\n",
    "   nearest_types = validation.take(idx)\n",
    "   return nearest_types.mode()[0]"
   ]
  },
  {
   "cell_type": "markdown",
   "metadata": {
    "id": "umE5hT02iWYl"
   },
   "source": [
    "## Q6 Compute the accuracy using different k values\n",
    "For each value of $k$ in the set $\\{1,3,13,25,50,100\\}$ calculate the class prediction for each oberservation in the test set, and the overall accuracy of the classifier.  Plot the accuracy as a function of $k$ when `use_weighted_vote` is `True` and when `use_weighted_vote` is `False`.\n",
    "\n",
    "Which value of $k$ would you chose, and would you use weighted voting or majority voting?\n",
    "\n",
    "Note, this took 20 seconds for me on Google Colab. "
   ]
  },
  {
   "cell_type": "code",
   "execution_count": 279,
   "metadata": {
    "id": "z4Pzt7aciWYl"
   },
   "outputs": [
    {
     "name": "stdout",
     "output_type": "stream",
     "text": [
      "[0.67, 0.71, 0.71, 0.7, 0.68, 0.69]\n",
      "[0.67, 0.73, 0.71, 0.7, 0.7, 0.7]\n"
     ]
    }
   ],
   "source": [
    "poss_k = [1,3,13,25,50,100] # possible k's\n",
    "acc_k_majority = list(np.zeros(len(poss_k))) # Accuracy for each value of k using majority voting\n",
    "acc_k_weighted = list(np.zeros(len(poss_k))) # Accuracy for each value of k using weighted voting\n",
    "\n",
    "def get_acc(s_1, s_2):\n",
    "    return sum(s_1 == s_2)/len(s_1)\n",
    "\n",
    "for j, k in enumerate(poss_k):\n",
    "    majority_predicitons = np.array([])\n",
    "    weighted_predictions = np.array([])\n",
    "    for i in range(len(df_test)):\n",
    "        majority_predicitons = np.append(majority_predicitons,knn_class(df_melb,k,target_col,df_test.iloc[i], False))\n",
    "        weighted_predictions = np.append(weighted_predictions,knn_class(df_melb,k,target_col,df_test.iloc[i], True))\n",
    "        \n",
    "    acc_k_majority[j] = get_acc(majority_predicitons,df_test['Type'])\n",
    "    acc_k_weighted[j] = get_acc(weighted_predictions,df_test['Type'])\n",
    "print(acc_k_majority)\n",
    "print(acc_k_weighted)\n"
   ]
  },
  {
   "cell_type": "code",
   "execution_count": 280,
   "metadata": {
    "id": "8qeqgM_siWYl"
   },
   "outputs": [
    {
     "data": {
      "image/png": "[encoded data removed]",
      "text/plain": [
       "<Figure size 640x480 with 1 Axes>"
      ]
     },
     "metadata": {},
     "output_type": "display_data"
    }
   ],
   "source": [
    "plt.plot(poss_k,acc_k_majority, label='Majority')\n",
    "plt.plot(poss_k,acc_k_weighted,label='Weighted')\n",
    "plt.xlabel('Number of Neigbors (k)')\n",
    "plt.ylabel('Accuracy')\n",
    "plt.title('Accuracy of Weighted and Majority kNN Model For Different Values Of k')\n",
    "plt.legend()\n",
    "plt.show()"
   ]
  },
  {
   "attachments": {},
   "cell_type": "markdown",
   "metadata": {
    "id": "S78QMk-fiWYl"
   },
   "source": [
    "I would choose k-value of 3 and the Majority voting, because that combination of hyperparameters seems to have the highest accuracy rate of the tested values"
   ]
  }
 ],
 "metadata": {
  "colab": {
   "name": "CS329E_HW6.ipynb",
   "provenance": []
  },
  "kernelspec": {
   "display_name": "CS329Eenv",
   "language": "python",
   "name": "cs329eenv"
  },
  "language_info": {
   "codemirror_mode": {
    "name": "ipython",
    "version": 3
   },
   "file_extension": ".py",
   "mimetype": "text/x-python",
   "name": "python",
   "nbconvert_exporter": "python",
   "pygments_lexer": "ipython3",
   "version": "3.9.13"
  }
 },
 "nbformat": 4,
 "nbformat_minor": 1
}
