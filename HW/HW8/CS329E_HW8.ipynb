{
 "cells": [
  {
   "attachments": {},
   "cell_type": "markdown",
   "metadata": {
    "id": "Pc0-tdC10va6"
   },
   "source": [
    "## C S 329E HW7\n",
    "\n",
    "# Ensemble Methods and Skewed Data\n",
    "\n",
    "## Abe Mankavil Group #24\n",
    "\n",
    "For this week's homework we are going explore two ensemble methods:\n",
    "\n",
    "  - AdaBoost, and\n",
    "  - Random Forests\n",
    "  \n",
    "Along with applying different KPIs (key performance indicators) that are more appropriate to highly skewed data sets. \n",
    "\n",
    "The dataset contains transactions made by credit cards in September 2013 by european cardholders.\n",
    "This dataset presents transactions that occurred in two days, where we have 237 frauds out of 142,167 transactions. The dataset is highly unbalanced, the positive class (frauds) account for 0.17% of all transactions.\n",
    "\n",
    "It contains only numerical input variables which are the result of a [PCA transformation](https://en.wikipedia.org/wiki/Principal_component_analysis). Unfortunately, due to confidentiality issues, they cannot provide the original features and more background information about the data. Features V1, V2, … V28 are the principal components obtained with PCA, the only features which have not been transformed with PCA are 'Time' and 'Amount'. Feature 'Time' contains the seconds elapsed between each transaction and the first transaction in the dataset. The feature 'Amount' is the transaction Amount in Euros. Feature 'Class' is the response variable and it takes value 1 in case of fraud and 0 otherwise.\n",
    "\n",
    "At the end of this homework, I expect you to understand how to train and use ensemble classifiers, how to characterize model performance with ROC curves, and be familiar with the difference between accuracy, true positive rate, and positive predictive value. "
   ]
  },
  {
   "cell_type": "code",
   "execution_count": 181,
   "metadata": {
    "executionInfo": {
     "elapsed": 9893,
     "status": "ok",
     "timestamp": 1634656012870,
     "user": {
      "displayName": "Yan Zheng",
      "photoUrl": "https://lh3.googleusercontent.com/a/default-user=s64",
      "userId": "11686319969188743405"
     },
     "user_tz": 300
    },
    "id": "AIIG_Qv30va_"
   },
   "outputs": [],
   "source": [
    "# These are the libraries you will use for this assignment, you may not import anything else\n",
    "import pandas as pd\n",
    "import numpy as np\n",
    "import matplotlib.pyplot as plt\n",
    "from sklearn.ensemble import AdaBoostClassifier\n",
    "from sklearn.ensemble import RandomForestClassifier\n",
    "from sklearn.model_selection import StratifiedKFold\n",
    "from sklearn.metrics import roc_curve\n",
    "\n",
    "# This is the credit card data provided, we'll use sklearn methods to do cross validation\n",
    "# to estimate error\n",
    "df_cc = pd.read_csv('https://www.cs.utexas.edu/~chaney/cc.csv')"
   ]
  },
  {
   "attachments": {},
   "cell_type": "markdown",
   "metadata": {
    "id": "sV8Lw-Xc0vbA"
   },
   "source": [
    "## Q1 Parition the data for cross validation\n",
    "\n",
    "Load the data, and split the data set into $X$ (the feature dataframe, `df_X`) and $y$ (the target series `s_y`). Define our partitions.  \n",
    "\n",
    "We know this is a _super_ skewed data set, so we worry about our target class being underrepresented in a random k-fold selection. With this in mind, we use a [stratifed k-fold](https://scikit-learn.org/stable/modules/generated/sklearn.model_selection.StratifiedKFold.html), since it will preserve our class balance in our experiements. Use $k=3$, . Instantiate an instance of the `StratifiedKFold` class, and use the generator `split` to populate the following dictonaries:\n",
    "   - `d_train_df_X` : where the key is the fold number, and the value is the attribute training dataframe at that fold\n",
    "   - `d_test_df_X`  : where the key is the fold number, and the value is the attribute test dataframe at that fold\n",
    "   - `d_train_s_y`  : where the key is the fold number, and the value is the target training series at that fold\n",
    "   - `d_test_s_y`  : where the key is the fold number, and the value is the target test series at that fold"
   ]
  },
  {
   "cell_type": "code",
   "execution_count": 182,
   "metadata": {
    "executionInfo": {
     "elapsed": 341,
     "status": "ok",
     "timestamp": 1634656043634,
     "user": {
      "displayName": "Yan Zheng",
      "photoUrl": "https://lh3.googleusercontent.com/a/default-user=s64",
      "userId": "11686319969188743405"
     },
     "user_tz": 300
    },
    "id": "3sHfNAci0vbA"
   },
   "outputs": [],
   "source": [
    "df_X = df_cc.drop(columns=['Class'])\n",
    "s_y = df_cc['Class']"
   ]
  },
  {
   "cell_type": "code",
   "execution_count": 183,
   "metadata": {
    "id": "p8K4LLES0vbB"
   },
   "outputs": [],
   "source": [
    "skf = StratifiedKFold(n_splits=3,shuffle=True,random_state=23)"
   ]
  },
  {
   "cell_type": "code",
   "execution_count": 184,
   "metadata": {
    "id": "xQYF1qLc0vbB"
   },
   "outputs": [],
   "source": [
    "d_train_df_X = dict()\n",
    "d_test_df_X = dict()\n",
    "d_train_s_y = dict()\n",
    "d_test_s_y = dict()\n",
    "\n",
    "for i, (train_index, test_index) in enumerate(skf.split(df_X, s_y)):\n",
    "    d_train_df_X[i] = df_X.iloc[train_index]\n",
    "    d_train_s_y[i] = s_y.iloc[train_index]\n",
    "    d_test_df_X[i] = df_X.iloc[test_index]\n",
    "    d_test_s_y[i] = s_y.iloc[test_index]\n"
   ]
  },
  {
   "cell_type": "code",
   "execution_count": 185,
   "metadata": {
    "id": "WKyVrDi30vbC",
    "scrolled": true
   },
   "outputs": [
    {
     "name": "stdout",
     "output_type": "stream",
     "text": [
      "0    47389\n",
      "1       79\n",
      "Name: Class, dtype: int64\n",
      "0    47389\n",
      "1       79\n",
      "Name: Class, dtype: int64\n",
      "0    47389\n",
      "1       79\n",
      "Name: Class, dtype: int64\n"
     ]
    }
   ],
   "source": [
    "# Look at the test data and verify that the target training is equally distributed as possible\n",
    "for key in d_test_s_y.keys():\n",
    "    print(d_test_s_y[key].value_counts())"
   ]
  },
  {
   "cell_type": "markdown",
   "metadata": {
    "id": "RgKTCPZn0vbC"
   },
   "source": [
    "## Section 1 - AdaBoost"
   ]
  },
  {
   "cell_type": "markdown",
   "metadata": {
    "id": "aBiszvo40vbD"
   },
   "source": [
    "# Q2 Test the Performance of AdaBoost\n",
    "\n",
    "When we talked about AdaBoost in class, we used a collection of \"Decision Stumps\". In this assignment, we will use the implementation of [AdaBoost in Scikit-learn](https://scikit-learn.org/stable/modules/generated/sklearn.ensemble.AdaBoostClassifier.html).  As you browse the documentation, you will notice that the default base esimator in this implentation is a `DecisionTreeClassifier(max_depth=1)` (our friend the decision stump). \n",
    "\n",
    "After you fit an AdaBoost model, you can call the method `predict` to get a class prediction, or you can call `predict_proba` to get the probability of being in the class `0` or the class `1`. These probabilities are used when creating ROC curves. \n",
    "\n",
    "Loop over the $k$ folds using the dictionaries from the first problem, and for each fold calculate the accuracy, TPR, the PPV, and the FPR (feel free to create helper functions to calcuate these metrics - do not use a library function to compute these metrics).  Plot the ROC curve for each fold. You may use the [plot roc curve](https://scikit-learn.org/stable/modules/generated/sklearn.metrics.plot_roc_curve.html) from Scikit-learn.  There is a great example in the documentation [on plotting ROC curves in cross validation](https://scikit-learn.org/stable/auto_examples/model_selection/plot_roc_crossval.html) that is helpful.  \n",
    "\n",
    "When creating your AdaBoost classifier, please use the following parameters: \n",
    "`AdaBoostClassifier(n_estimators=25, random_state=23)`\n",
    "\n",
    "Save the predictions from the 3rd fold into a variable called `y_hat_ab` for use in a future problem.\n"
   ]
  },
  {
   "cell_type": "code",
   "execution_count": 186,
   "metadata": {
    "id": "1CH_Ec9G0vbD"
   },
   "outputs": [],
   "source": [
    "k = 3\n",
    "acc_ab = np.zeros(k)\n",
    "tpr_ab = np.zeros(k)\n",
    "ppv_ab = np.zeros(k)\n",
    "fpr_ab = np.zeros(k)"
   ]
  },
  {
   "cell_type": "code",
   "execution_count": 187,
   "metadata": {},
   "outputs": [
    {
     "data": {
      "image/png": "[encoded data removed]",
      "text/plain": [
       "<Figure size 640x480 with 1 Axes>"
      ]
     },
     "metadata": {},
     "output_type": "display_data"
    }
   ],
   "source": [
    "clf = AdaBoostClassifier(n_estimators=25, random_state=23)\n",
    "\n",
    "def metrics(clf, df_X_test, s_y_test):\n",
    "    classify = clf.predict(df_X_test)\n",
    "    acc =  sum(classify == s_y_test)/len(s_y_test)\n",
    "    tpr = sum((s_y_test == 1) & (classify == 1))/(sum((s_y_test == 1) & (classify == 1)) + sum((classify == 0) & (s_y_test == 1)))\n",
    "    ppv = sum((s_y_test == 1) & (classify == 1))/(sum((s_y_test == 1) & (classify == 1)) + sum((s_y_test == 0) & (classify == 1)))\n",
    "    fpr = sum((s_y_test == 0) & (classify == 1))/(sum((s_y_test == 0) & (classify == 1)) + sum((s_y_test == 0) & (classify == 0)))\n",
    "    return (acc, tpr, ppv, fpr)\n",
    "\n",
    "\n",
    "for key in d_train_df_X.keys():\n",
    "    clf = clf.fit(d_train_df_X[key], d_train_s_y[key])\n",
    "    acc, tpr, ppv, fpr = metrics(clf, d_test_df_X[key],d_test_s_y[key])\n",
    "    acc_ab[key] = acc\n",
    "    tpr_ab[key] = tpr\n",
    "    ppv_ab[key] = ppv\n",
    "    fpr_ab[key] = fpr\n",
    "    scores = clf.predict_proba(d_test_df_X[key])\n",
    "    df = pd.DataFrame({'score': scores[:,1], 'label': d_test_s_y[key]})\n",
    "    df = df.sort_values('score', ascending=False)\n",
    "    df['tpr'] = df.label.cumsum()/df.label.sum()\n",
    "    df['fpr'] = (1-df.label).cumsum()/(1-df.label).sum()\n",
    "    plt.plot(df['fpr'], df['tpr'], label=f'Adaboost Fold #{key+1}')\n",
    "    if key == 2:\n",
    "        y_hat_ab = clf.predict(d_test_df_X[key])\n",
    "_ = plt.legend()\n"
   ]
  },
  {
   "cell_type": "code",
   "execution_count": 188,
   "metadata": {
    "id": "TbQKtc_K0vbE"
   },
   "outputs": [
    {
     "name": "stdout",
     "output_type": "stream",
     "text": [
      "The min, mean, and max TPR are: 0.62, 0.65, and 0.71\n",
      "The min, mean, and max PPV are: 0.75, 0.79, and 0.82\n",
      "The min, mean, and max ACC are: 1.00, 1.00, and 1.00\n"
     ]
    }
   ],
   "source": [
    "print('The min, mean, and max TPR are: {:.2f}, {:.2f}, and {:.2f}'.format(tpr_ab.min(), tpr_ab.mean(), tpr_ab.max()))\n",
    "print('The min, mean, and max PPV are: {:.2f}, {:.2f}, and {:.2f}'.format(ppv_ab.min(), ppv_ab.mean(), ppv_ab.max()))\n",
    "print('The min, mean, and max ACC are: {:.2f}, {:.2f}, and {:.2f}'.format(acc_ab.min(), acc_ab.mean(), acc_ab.max()))"
   ]
  },
  {
   "cell_type": "markdown",
   "metadata": {
    "id": "6B3UIBCC0vbE"
   },
   "source": [
    "## Q3 Test the Performance of Random Forests\n",
    "\n",
    "Now, let's try another ensemble method: Random Forests, again using the [Scikit-learn implementation](https://scikit-learn.org/stable/modules/generated/sklearn.ensemble.RandomForestClassifier.html). \n",
    "\n",
    "Following our book, we will build complete trees, with no pruning.  That means every leaf in the tree will be completelely pure, and if you exam an individual Decision Tree it would be overtrained to our training set.  While building the decision trees, at every internal node, we select $p$ attributes at random, and then find the best split that minimizes impurtity.  The value, $p$, is a hyperparamter of the Random Forest and corresponds to the `max_features` parameter in the Random Forest Class. \n",
    "\n",
    "After you fit an RandomForest model, you can call the method `predict` to get a class prediction, or you can call `predict_proba` to get the probability of being in the class `0` or the class `1`. These probabilities are used when creating ROC curves. \n",
    "\n",
    "Loop over the $k$ folds using the dictionaries from the first problem, and for each fold calculate the accuracy, TPR, the PPV, and the FPR (feel free to reuse the functions that you already wrote to calculate these values - do not use a library function to compute these metrics).  Plot the ROC curve for each fold. You may use the [roc curve](https://scikit-learn.org/stable/modules/generated/sklearn.metrics.roc_curve.html) from Scikit-learn. There is a great example in the documentation [on plotting ROC curves in cross validation](https://scikit-learn.org/stable/auto_examples/model_selection/plot_roc_crossval.html) that is helpful.  \n",
    "\n",
    "When creating your Random Forest classifier, please use the following parameters: \n",
    "`RandomForestClassifier(criterion=\"entropy\", max_features=\"sqrt\", random_state=23)`\n",
    "\n",
    "Save the predictions from the 3rd fold into a variable called `y_hat_rf` for use in a future problem."
   ]
  },
  {
   "cell_type": "code",
   "execution_count": 189,
   "metadata": {
    "id": "knZax5_10vbE"
   },
   "outputs": [],
   "source": [
    "k = 3\n",
    "acc_rf = np.zeros(k)\n",
    "tpr_rf = np.zeros(k)\n",
    "ppv_rf = np.zeros(k)\n",
    "fpr_rf = np.zeros(k)"
   ]
  },
  {
   "cell_type": "code",
   "execution_count": 190,
   "metadata": {
    "id": "SL-uXnC10vbF"
   },
   "outputs": [
    {
     "data": {
      "image/png": "[encoded data removed]",
      "text/plain": [
       "<Figure size 640x480 with 1 Axes>"
      ]
     },
     "metadata": {},
     "output_type": "display_data"
    }
   ],
   "source": [
    "clf = RandomForestClassifier(criterion=\"entropy\",max_features=\"sqrt\", random_state=23)\n",
    "\n",
    "for key in d_train_df_X.keys():\n",
    "    clf = clf.fit(d_train_df_X[key], d_train_s_y[key])\n",
    "    acc, tpr, ppv, fpr = metrics(clf, d_test_df_X[key],d_test_s_y[key])\n",
    "    acc_rf[key] = acc\n",
    "    tpr_rf[key] = tpr\n",
    "    ppv_rf[key] = ppv\n",
    "    fpr_rf[key] = fpr\n",
    "    scores = clf.predict_proba(d_test_df_X[key])\n",
    "    df = pd.DataFrame({'score': scores[:,1], 'label': d_test_s_y[key]})\n",
    "    df = df.sort_values('score', ascending=False)\n",
    "    df['tpr'] = df.label.cumsum()/df.label.sum()\n",
    "    df['fpr'] = (1-df.label).cumsum()/(1-df.label).sum()\n",
    "    plt.plot(df['fpr'], df['tpr'], label=f'Random Forest Fold #{key+1}')\n",
    "    if key == 2:\n",
    "        y_hat_rf = clf.predict(d_test_df_X[key])\n",
    "_ = plt.legend()"
   ]
  },
  {
   "cell_type": "code",
   "execution_count": 191,
   "metadata": {
    "id": "d5Drp2A20vbF"
   },
   "outputs": [
    {
     "name": "stdout",
     "output_type": "stream",
     "text": [
      "The min, mean, and max TPR are: 0.75, 0.78, and 0.80\n",
      "The min, mean, and max PPV are: 0.92, 0.93, and 0.95\n",
      "The min, mean, and max ACC are: 1.00, 1.00, and 1.00\n"
     ]
    }
   ],
   "source": [
    "print('The min, mean, and max TPR are: {:.2f}, {:.2f}, and {:.2f}'.format(tpr_rf.min(), tpr_rf.mean(), tpr_rf.max()))\n",
    "print('The min, mean, and max PPV are: {:.2f}, {:.2f}, and {:.2f}'.format(ppv_rf.min(), ppv_rf.mean(), ppv_rf.max()))\n",
    "print('The min, mean, and max ACC are: {:.2f}, {:.2f}, and {:.2f}'.format(acc_rf.min(), acc_rf.mean(), acc_rf.max()))"
   ]
  },
  {
   "cell_type": "markdown",
   "metadata": {
    "id": "1XU70_Mf0vbF"
   },
   "source": [
    "# Q4 Calculate the Cost of Fraud \n",
    "\n",
    "In the above problems, we saved the predictions of the 3rd fold into the variables `y_hat_ab` and `y_hat_rf` for the AdaBoost and RandomForest models respectively. \n",
    "\n",
    "Now, Mr. Bank Man wants you to tell him how much money he is going to save if he deploys either of these fraud algorithms to the real-time payment processing system.  Assume that there is not a currently deployed fraud detection algorithm.  \n",
    "\n",
    "For every fraudulent transaction that is not predicted as fraudulent the bank looses twice the value of the transaction.  So, if a fradulent charge for €10 is undectected, it costs the bank €20.  Also, if a charge is predicted as fradulent, but wasn't, it costs the bank a flat fee of €3 in customer service support to communicate with the customer, and mark the possible fraud as a normal transaction. \n",
    "\n",
    "Using the 3rd fold test sample, calculate how much money Mr Bank Man will save by deploying each algorithm, and make a recommendation of which algorithm to deploy to production.  To calculate savings to the bank, you must first calculate the cost of the status quo, which is having no algorithm deployed. "
   ]
  },
  {
   "cell_type": "code",
   "execution_count": 192,
   "metadata": {
    "id": "i5hYCvdK0vbF"
   },
   "outputs": [
    {
     "name": "stdout",
     "output_type": "stream",
     "text": [
      "Savings(Adaboost): $13820.419999999995\n",
      "Savings(Random Forest): $17944.359999999993\n"
     ]
    }
   ],
   "source": [
    "idx = d_test_s_y[2][d_test_s_y[2] == 1].index\n",
    "status_quo_cost = sum(d_test_df_X[2].loc[idx]['Amount'])*2\n",
    "\n",
    "#79 total fraud cases\n",
    "def undetected_indicies(predicted, actual):\n",
    "    t_f_list = pd.Series((predicted == 0) & (actual == 1))\n",
    "    return t_f_list[t_f_list.isin([True])].index\n",
    "undetected_index_list = undetected_indicies(y_hat_ab, d_test_s_y[2]) #23\n",
    "missed_fraud_cost = sum(d_test_df_X[2].loc[undetected_index_list]['Amount'])*2\n",
    "\n",
    "def false_pos(predicted,actual):\n",
    "    return sum((predicted == 1) & (actual == 1))\n",
    "false_pos_fraud_cost = false_pos(y_hat_ab, d_test_s_y[2])*3 #14\n",
    "\n",
    "print(f'Savings(Adaboost): ${status_quo_cost - missed_fraud_cost - false_pos_fraud_cost}')\n",
    "\n",
    "undetected_index_list = undetected_indicies(y_hat_rf, d_test_s_y[2]) #23\n",
    "missed_fraud_cost = sum(d_test_df_X[2].loc[undetected_index_list]['Amount'])*2\n",
    "false_pos_fraud_cost = false_pos(y_hat_rf, d_test_s_y[2])*3 #14\n",
    "print(f'Savings(Random Forest): ${status_quo_cost - missed_fraud_cost - false_pos_fraud_cost}')\n"
   ]
  },
  {
   "attachments": {},
   "cell_type": "markdown",
   "metadata": {
    "id": "6x_Zz5Hs0vbF"
   },
   "source": [
    "➡️  Mr Bank man will save $17944.36, if we deploy the Random Forest algorithm!\\\n",
    "➡️  Mr Bank man will save $13820.42, if we deploy the Adaboost algorithm! \\\n",
    "Mr. Bank should use the Random Forest algo in production"
   ]
  }
 ],
 "metadata": {
  "colab": {
   "collapsed_sections": [],
   "name": "CS329E_HW8.ipynb",
   "provenance": []
  },
  "kernelspec": {
   "display_name": "Python 3 (ipykernel)",
   "language": "python",
   "name": "python3"
  },
  "language_info": {
   "codemirror_mode": {
    "name": "ipython",
    "version": 3
   },
   "file_extension": ".py",
   "mimetype": "text/x-python",
   "name": "python",
   "nbconvert_exporter": "python",
   "pygments_lexer": "ipython3",
   "version": "3.9.13"
  }
 },
 "nbformat": 4,
 "nbformat_minor": 1
}
