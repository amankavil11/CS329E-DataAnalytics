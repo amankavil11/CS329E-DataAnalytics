{
 "cells": [
  {
   "attachments": {},
   "cell_type": "markdown",
   "metadata": {
    "id": "JfuIVwk6VQNg"
   },
   "source": [
    "## C S 329E HW 5\n",
    "\n",
    "# Crossvalidation and hyperparameter selection\n",
    "\n",
    "## Abe Mankavil - Group 22\n",
    "\n",
    "For this week's homework we are going to explore the cross validation testing methodology and applying that to get error estimates on the two algorithms we've used so far:\n",
    "  - Linear Regression\n",
    "  - Decision Tree classification\n",
    "  "
   ]
  },
  {
   "cell_type": "code",
   "execution_count": 392,
   "metadata": {
    "id": "PDHKJDFmVQNi"
   },
   "outputs": [],
   "source": [
    "# import the libraries! If you want to add things here for visualization, please do, \n",
    "# but only use sklearn when prompted\n",
    "import pandas as pd\n",
    "import numpy as np\n",
    "from sklearn import tree \n",
    "from sklearn.datasets import load_iris\n",
    "from sklearn.datasets import load_diabetes"
   ]
  },
  {
   "cell_type": "markdown",
   "metadata": {
    "id": "LZs2nuNbVQNj"
   },
   "source": [
    "# Part 1 - Calculate Generalized Error on Linear Regression with k-fold Cross Validation"
   ]
  },
  {
   "cell_type": "markdown",
   "metadata": {
    "id": "-JVk1iaWVQNk"
   },
   "source": [
    "## Q1.1 Load in the diabetes data set as a pandas dataframe and series.  \n",
    "Documentation on the data set is [here](https://scikit-learn.org/stable/modules/generated/sklearn.datasets.load_diabetes.html).  Name your features dataframe (the independent variables) `df_X` and your target value (the dependent variable) series `s_y`"
   ]
  },
  {
   "cell_type": "code",
   "execution_count": 393,
   "metadata": {
    "id": "VQVbOpO9VQNk"
   },
   "outputs": [
    {
     "data": {
      "text/html": [
       "<div>\n",
       "<style scoped>\n",
       "    .dataframe tbody tr th:only-of-type {\n",
       "        vertical-align: middle;\n",
       "    }\n",
       "\n",
       "    .dataframe tbody tr th {\n",
       "        vertical-align: top;\n",
       "    }\n",
       "\n",
       "    .dataframe thead th {\n",
       "        text-align: right;\n",
       "    }\n",
       "</style>\n",
       "<table border=\"1\" class=\"dataframe\">\n",
       "  <thead>\n",
       "    <tr style=\"text-align: right;\">\n",
       "      <th></th>\n",
       "      <th>age</th>\n",
       "      <th>sex</th>\n",
       "      <th>bmi</th>\n",
       "      <th>bp</th>\n",
       "      <th>s1</th>\n",
       "      <th>s2</th>\n",
       "      <th>s3</th>\n",
       "      <th>s4</th>\n",
       "      <th>s5</th>\n",
       "      <th>s6</th>\n",
       "    </tr>\n",
       "  </thead>\n",
       "  <tbody>\n",
       "    <tr>\n",
       "      <th>0</th>\n",
       "      <td>0.038076</td>\n",
       "      <td>0.050680</td>\n",
       "      <td>0.061696</td>\n",
       "      <td>0.021872</td>\n",
       "      <td>-0.044223</td>\n",
       "      <td>-0.034821</td>\n",
       "      <td>-0.043401</td>\n",
       "      <td>-0.002592</td>\n",
       "      <td>0.019907</td>\n",
       "      <td>-0.017646</td>\n",
       "    </tr>\n",
       "    <tr>\n",
       "      <th>1</th>\n",
       "      <td>-0.001882</td>\n",
       "      <td>-0.044642</td>\n",
       "      <td>-0.051474</td>\n",
       "      <td>-0.026328</td>\n",
       "      <td>-0.008449</td>\n",
       "      <td>-0.019163</td>\n",
       "      <td>0.074412</td>\n",
       "      <td>-0.039493</td>\n",
       "      <td>-0.068332</td>\n",
       "      <td>-0.092204</td>\n",
       "    </tr>\n",
       "    <tr>\n",
       "      <th>2</th>\n",
       "      <td>0.085299</td>\n",
       "      <td>0.050680</td>\n",
       "      <td>0.044451</td>\n",
       "      <td>-0.005670</td>\n",
       "      <td>-0.045599</td>\n",
       "      <td>-0.034194</td>\n",
       "      <td>-0.032356</td>\n",
       "      <td>-0.002592</td>\n",
       "      <td>0.002861</td>\n",
       "      <td>-0.025930</td>\n",
       "    </tr>\n",
       "    <tr>\n",
       "      <th>3</th>\n",
       "      <td>-0.089063</td>\n",
       "      <td>-0.044642</td>\n",
       "      <td>-0.011595</td>\n",
       "      <td>-0.036656</td>\n",
       "      <td>0.012191</td>\n",
       "      <td>0.024991</td>\n",
       "      <td>-0.036038</td>\n",
       "      <td>0.034309</td>\n",
       "      <td>0.022688</td>\n",
       "      <td>-0.009362</td>\n",
       "    </tr>\n",
       "    <tr>\n",
       "      <th>4</th>\n",
       "      <td>0.005383</td>\n",
       "      <td>-0.044642</td>\n",
       "      <td>-0.036385</td>\n",
       "      <td>0.021872</td>\n",
       "      <td>0.003935</td>\n",
       "      <td>0.015596</td>\n",
       "      <td>0.008142</td>\n",
       "      <td>-0.002592</td>\n",
       "      <td>-0.031988</td>\n",
       "      <td>-0.046641</td>\n",
       "    </tr>\n",
       "  </tbody>\n",
       "</table>\n",
       "</div>"
      ],
      "text/plain": [
       "        age       sex       bmi        bp        s1        s2        s3  \\\n",
       "0  0.038076  0.050680  0.061696  0.021872 -0.044223 -0.034821 -0.043401   \n",
       "1 -0.001882 -0.044642 -0.051474 -0.026328 -0.008449 -0.019163  0.074412   \n",
       "2  0.085299  0.050680  0.044451 -0.005670 -0.045599 -0.034194 -0.032356   \n",
       "3 -0.089063 -0.044642 -0.011595 -0.036656  0.012191  0.024991 -0.036038   \n",
       "4  0.005383 -0.044642 -0.036385  0.021872  0.003935  0.015596  0.008142   \n",
       "\n",
       "         s4        s5        s6  \n",
       "0 -0.002592  0.019907 -0.017646  \n",
       "1 -0.039493 -0.068332 -0.092204  \n",
       "2 -0.002592  0.002861 -0.025930  \n",
       "3  0.034309  0.022688 -0.009362  \n",
       "4 -0.002592 -0.031988 -0.046641  "
      ]
     },
     "execution_count": 393,
     "metadata": {},
     "output_type": "execute_result"
    }
   ],
   "source": [
    "df_X, s_y = load_diabetes(return_X_y=True, as_frame=True)\n",
    "df_X.head()"
   ]
  },
  {
   "cell_type": "markdown",
   "metadata": {
    "id": "hzgW4G5SVQNk"
   },
   "source": [
    "## Q1.2 Define a function that creates a linear least squares regression model and a function to predict a continuous value given a linear regression model\n",
    "The first function should take in two parameters, `df_X`, and `s_y` and return the least squares regression model, $\\hat{\\beta}$ (using the notation from the ESLII book chapter 3 and HW3).  You can not use any libraries outside of pandas and numpy. Note that the length of beta_hat should be the number of columns in `df_X` + 1. \n",
    "\n",
    "The second function should take in two parameters, `beta_hat` - the model generated from the `get_linear_regression` function, and `df_X` - that has the attribute values at which we want to predict a continuous value.  We assume that the format and ordering of `df_X` used to create the model and `df_X` used to generate predictions are consistent. "
   ]
  },
  {
   "cell_type": "code",
   "execution_count": 394,
   "metadata": {
    "id": "yf37fNLUVQNl"
   },
   "outputs": [],
   "source": [
    "def get_linear_regression_model(df_X, s_y):\n",
    "    ones = pd.Series(np.ones(len(df_X)))\n",
    "    beta_hat, _, _, _ = np.linalg.lstsq(pd.concat([pd.DataFrame({'intercept':ones}),df_X], axis=1),s_y,rcond=None)\n",
    "    return beta_hat\n"
   ]
  },
  {
   "cell_type": "code",
   "execution_count": 395,
   "metadata": {
    "id": "VaM8sfLCVQNm"
   },
   "outputs": [
    {
     "data": {
      "text/plain": [
       "array([ 4.18818425,  1.77890808,  0.74032569, -1.3506416 ,  0.14535984])"
      ]
     },
     "execution_count": 395,
     "metadata": {},
     "output_type": "execute_result"
    }
   ],
   "source": [
    "# code to check beta_hat\n",
    "np.random.seed(23)\n",
    "beta_hat = get_linear_regression_model( pd.DataFrame(np.random.random((34,4))), pd.Series(np.random.random(34)*10.0) )\n",
    "beta_hat"
   ]
  },
  {
   "cell_type": "code",
   "execution_count": 396,
   "metadata": {
    "id": "mPpM4U6YVQNm"
   },
   "outputs": [],
   "source": [
    "def predict_linear_regression_value(beta_hat, df_X):\n",
    "    ones = pd.Series(np.ones(len(df_X)))\n",
    "    y_hat = np.matmul(pd.concat([ones,df_X], axis=1),beta_hat)\n",
    "    return y_hat"
   ]
  },
  {
   "cell_type": "code",
   "execution_count": 397,
   "metadata": {
    "id": "OyMGfxtxXNCM"
   },
   "outputs": [
    {
     "data": {
      "text/plain": [
       "0    4.036695\n",
       "1    4.395026\n",
       "2    3.908847\n",
       "dtype: float64"
      ]
     },
     "execution_count": 397,
     "metadata": {},
     "output_type": "execute_result"
    }
   ],
   "source": [
    "predicted_vals = predict_linear_regression_value(beta_hat, pd.DataFrame(np.random.random((3,4))))\n",
    "predicted_vals\n"
   ]
  },
  {
   "cell_type": "markdown",
   "metadata": {
    "id": "cRxs-OTiVQNn"
   },
   "source": [
    "## Q1.3 Define a function that partitions the dataframe and series data into dictionaries\n",
    "This function should take in three parameters, `df_X`, `s_y`, and `k`, and returns a tuple of two dictionaries.\n",
    "In both dictionaries the key is the `k` value (an integer from one to `k` inclusive).\n",
    "The first dictionary will have the dataframe of the training data that contains approximately $\\frac{1}{k}$ of the data (variation due to randomness is acceptable).\n",
    "The second dictionary will have the series of the target data that contains approximately $\\frac{1}{k}$ of the data (variation due to randomness is acceptable). Please note the targets _must match_ the same rows as the dataframe at this index, e.g, the length of the kth partition is the same for the dataframe and series.\n",
    "\n",
    "Call that function with $k=5$ and create the dictionaries `dict_k_df_X` and `dict_k_s_y`. Print out the number of rows in each fold.  Check that the number of data points in each partition totals the number of data points in the entire dataset. \n",
    "\n",
    "Here is some example output from checking the length of the folds:\n",
    "```\n",
    "Fold 1 length of dataframe is 88 and length of series is 88\n",
    "Fold 2 length of dataframe is 96 and length of series is 96\n",
    "Fold 3 length of dataframe is 88 and length of series is 88\n",
    "Fold 4 length of dataframe is 79 and length of series is 79\n",
    "Fold 5 length of dataframe is 91 and length of series is 91\n",
    "The sum of the number of elements in each fold is 442 and there are 442 rows in the original df\n",
    "```"
   ]
  },
  {
   "cell_type": "code",
   "execution_count": 398,
   "metadata": {
    "id": "vKZFErNNVQNo"
   },
   "outputs": [],
   "source": [
    "def partition_data( df_X, s_y, k ):\n",
    "    dict_k_df_X, dict_k_s_y = {}, {}\n",
    "    n = len(df_X)\n",
    "    for i in range(1,k+1):\n",
    "        X_train = df_X[n*(i-1)//k:n*i//k]\n",
    "        dict_k_df_X[i] = X_train\n",
    "        y_train = s_y[n*(i-1)//k:n*i//k]\n",
    "        dict_k_s_y[i] = y_train\n",
    "    return (dict_k_df_X, dict_k_s_y)\n",
    "        \n",
    "\n"
   ]
  },
  {
   "cell_type": "code",
   "execution_count": 399,
   "metadata": {
    "id": "pefH5wfJVQNo"
   },
   "outputs": [],
   "source": [
    "(dict_k_df_X, dict_k_s_y) = partition_data( df_X, s_y, 5 )\n"
   ]
  },
  {
   "cell_type": "code",
   "execution_count": 400,
   "metadata": {
    "id": "TQ27tMRFVQNp"
   },
   "outputs": [
    {
     "name": "stdout",
     "output_type": "stream",
     "text": [
      "Fold 1 length of dataframe is 88 and length of series is 88 \n",
      "Fold 2 length of dataframe is 88 and length of series is 88 \n",
      "Fold 3 length of dataframe is 89 and length of series is 89 \n",
      "Fold 4 length of dataframe is 88 and length of series is 88 \n",
      "Fold 5 length of dataframe is 89 and length of series is 89 \n",
      "The sum of the number of elements in each fold is 442 and there are 442 rows in the original df\n"
     ]
    }
   ],
   "source": [
    "# Check fold sizes\n",
    "total = 0\n",
    "for i in range(1,len(dict_k_df_X)+1):\n",
    "    total += len(dict_k_df_X[i])\n",
    "    print(f\"Fold {i} length of dataframe is {len(dict_k_df_X[i])} and length of series is {len(dict_k_s_y[i])} \")\n",
    "print(f\"The sum of the number of elements in each fold is {total} and there are {len(df_X)} rows in the original df\")"
   ]
  },
  {
   "cell_type": "markdown",
   "metadata": {
    "id": "DtdijUdNVQNp"
   },
   "source": [
    "## Q1.4 Define a function that calculates a regression metric\n",
    "This function should accept two series of equal length $n$ numpy arrays, `s_y`, and `s_y_hat`. The metric it should calculate is the mean absolute error, $MAE = \\sum\\limits_{i=1}^n\\frac{|{s\\_y_i - {s\\_y\\_hat}_i}|}{n}$ \n",
    "\n",
    "Test your function by using the vectors:\n",
    "```\n",
    "x = np.array([1,2,3])\n",
    "y = np.array([2,2,3])\n",
    "```\n"
   ]
  },
  {
   "cell_type": "code",
   "execution_count": 401,
   "metadata": {
    "id": "v40R9HM_VQNq"
   },
   "outputs": [],
   "source": [
    "def get_mae(s_y, s_y_hat):\n",
    "    mae = 0\n",
    "    for i in range(len(s_y)):\n",
    "        mae += np.abs((s_y[i] - s_y_hat[i]))/len(s_y)\n",
    "    return mae"
   ]
  },
  {
   "cell_type": "code",
   "execution_count": 402,
   "metadata": {
    "id": "jJB-KKKvVQNq"
   },
   "outputs": [
    {
     "data": {
      "text/plain": [
       "0.3333333333333333"
      ]
     },
     "execution_count": 402,
     "metadata": {},
     "output_type": "execute_result"
    }
   ],
   "source": [
    "# Test it \n",
    "x = np.array([1,2,3])\n",
    "y = np.array([2,2,3])\n",
    "get_mae(x,y)"
   ]
  },
  {
   "cell_type": "markdown",
   "metadata": {
    "id": "3pgVtzgWVQNq"
   },
   "source": [
    "## Q1.5 Calculate the $MAE$ for each fold\n",
    "For each fold in your dictionaries, calculate the $MAE$.  Use the partition number key as the test set, and all other partitions as the train set. \n",
    "\n",
    "Print the min, max, and mean $MAE$ of your 5 folds. \n",
    "\n",
    "You must use your helper functions that you wrote above, `get_linear_regression_model`, `predict_linear_regression_value` and `get_mae`. "
   ]
  },
  {
   "cell_type": "code",
   "execution_count": 403,
   "metadata": {
    "id": "IuxFj8z5VQNr"
   },
   "outputs": [],
   "source": [
    "mae = np.array([])\n",
    "for k in dict_k_df_X.keys():\n",
    "    not_k = [i for i in dict_k_df_X.keys() if i != k]\n",
    "    \n",
    "    df_X_train = pd.concat([dict_k_df_X[i] for i in not_k], axis=0).reset_index(drop=True)\n",
    "    s_y_train = pd.concat([dict_k_s_y[i] for i in not_k], axis=0).reset_index(drop=True)\n",
    "\n",
    "\n",
    "    df_X_test = dict_k_df_X[k].reset_index(drop=True)\n",
    "    s_y_test = dict_k_s_y[k].reset_index(drop=True)\n",
    "\n",
    "    beta_hat = get_linear_regression_model(df_X_train, s_y_train)\n",
    "    s_y_hat = predict_linear_regression_value(beta_hat,df_X_test)\n",
    "    mae = np.append(mae, get_mae(s_y_test,s_y_hat))  \n",
    "\n"
   ]
  },
  {
   "cell_type": "code",
   "execution_count": 404,
   "metadata": {
    "id": "7OxejniBVQNr"
   },
   "outputs": [
    {
     "name": "stdout",
     "output_type": "stream",
     "text": [
      "The min MAE is 42.55, the max MAE is 47.93, and the mean MAE is 44.28\n"
     ]
    }
   ],
   "source": [
    "print(\"The min MAE is {:.2f}, the max MAE is {:.2f}, and the mean MAE is {:.2f}\".format(mae.min(),mae.max(),mae.mean()))"
   ]
  },
  {
   "cell_type": "markdown",
   "metadata": {
    "id": "bqOqK30FVQNr"
   },
   "source": [
    "# Part 2 - Find the best hyperparameter to use in a Decision Tree "
   ]
  },
  {
   "cell_type": "markdown",
   "metadata": {
    "id": "3xVkJfkdVQNr"
   },
   "source": [
    "## Q2.1 Load the iris data in as a pandas dataframe and a series\n",
    "Documentation on the data set is [here](https://scikit-learn.org/stable/modules/generated/sklearn.datasets.load_iris.html). Name your features dataframe (the independent variables) `df_X` and your class label (the dependent variable) series `s_y`"
   ]
  },
  {
   "cell_type": "code",
   "execution_count": 412,
   "metadata": {
    "id": "5oBRRztuVQNr"
   },
   "outputs": [],
   "source": [
    "df_X, s_y = load_iris(return_X_y=True, as_frame=True)\n"
   ]
  },
  {
   "cell_type": "markdown",
   "metadata": {
    "id": "O0OUEFGaVQNr"
   },
   "source": [
    "## Q2.2 Partition `df_X` and `s_y` into $5$ partitions of roughly equal size\n",
    "Make 2 dictionaries, with the key of each dictionary the fold number.  The value of the dictionary `dict_k_df_X` is the $k^{th}$ partition of the data, and the value of the dictionary `dict_k_s_y` is the corresponding $k^{th}$ target classification.  Print out the number of rows in each fold.  Check that the number of data points in each partition totals the number of data points in the entire dataset. \n",
    "\n",
    "Note, you can reuse the functions from Section 1. "
   ]
  },
  {
   "cell_type": "code",
   "execution_count": 406,
   "metadata": {
    "id": "4FDi6t03VQNs"
   },
   "outputs": [
    {
     "name": "stdout",
     "output_type": "stream",
     "text": [
      "Fold 1 length of dataframe is 30 and length of series is 30 \n",
      "Fold 2 length of dataframe is 30 and length of series is 30 \n",
      "Fold 3 length of dataframe is 30 and length of series is 30 \n",
      "Fold 4 length of dataframe is 30 and length of series is 30 \n",
      "Fold 5 length of dataframe is 30 and length of series is 30 \n",
      "The sum of the number of elements in each fold is 150 and there are 150 rows in the original df\n"
     ]
    }
   ],
   "source": [
    "dict_k_df_X, dict_k_s_y = partition_data(df_X,s_y,5)\n",
    "total = 0\n",
    "for i in range(1,len(dict_k_df_X)+1):\n",
    "    total += len(dict_k_df_X[i])\n",
    "    print(f\"Fold {i} length of dataframe is {len(dict_k_df_X[i])} and length of series is {len(dict_k_s_y[i])} \")\n",
    "print(f\"The sum of the number of elements in each fold is {total} and there are {len(df_X)} rows in the original df\")"
   ]
  },
  {
   "cell_type": "markdown",
   "metadata": {
    "id": "D3QvbgqsVQNs"
   },
   "source": [
    "## Q2.3 Define a function that calculates accuracy\n",
    "The function should accept two series and compare each element for equality.  The accuracy is the number of equal elements divided by the total number of elements.\n",
    "\n",
    "Test your accuracy function by calling it with the `s_y` loaded from the iris data set and an array of the same length containing all $1$ values. "
   ]
  },
  {
   "cell_type": "code",
   "execution_count": 407,
   "metadata": {
    "id": "hGEZaKCRVQNs"
   },
   "outputs": [],
   "source": [
    "def get_acc(s_1, s_2):\n",
    "    return np.sum(np.equal(s_1,s_2))/len(s_1)"
   ]
  },
  {
   "cell_type": "code",
   "execution_count": 408,
   "metadata": {
    "id": "K8WcPX7IVQNs"
   },
   "outputs": [
    {
     "data": {
      "text/plain": [
       "0.3333333333333333"
      ]
     },
     "execution_count": 408,
     "metadata": {},
     "output_type": "execute_result"
    }
   ],
   "source": [
    "get_acc(s_y,np.ones(len(s_y)))"
   ]
  },
  {
   "cell_type": "markdown",
   "metadata": {
    "id": "1szoVAVkVQNs"
   },
   "source": [
    "## Q2.4 Using Nested Cross validation, find the best hyperparameter\n",
    "Use the [Decision Tree Classifier](https://scikit-learn.org/stable/modules/tree.html#classification) class to build a decision tree inside of a 5-fold cross validation loop.  The partitions you already created in 2.2 will be the outer loop.  In the inside loop you should use 4-fold cross validation (so you don't have to partition _again_) to find the best value for `min_impurity_decrease`.  Use the Gini Index as your impurity measure. \n",
    "    Calculate the mean accuracy across the 4 folds of your inner loop for all the candidate `min_impurity_decrease` values, and print the value.  Use the array `np.array([0.1,0.25,0.3,0.4])` as the candidates for the best hyperparameter. If there is a tie (two `min_impurity_decrease` values give the same highest accuracy), choose the lowest `min_impurity_decrease` value. \n",
    "\n",
    "For each inner loop, select the best `min_impurity_decrease` and train the outer fold training data on using that value. \n",
    "\n",
    "For each of the 5 executions of the inner loop, your output should look something like this:\n",
    "```\n",
    "Testing 0.10 min impurity decrease\n",
    "\tAverage accuracy over 4 folds is 0.95\n",
    "Testing 0.25 min impurity decrease\n",
    "\tAverage accuracy over 4 folds is 0.86\n",
    "Testing 0.30 min impurity decrease\n",
    "\tAverage accuracy over 4 folds is 0.63\n",
    "Testing 0.40 min impurity decrease\n",
    "\tAverage accuracy over 4 folds is 0.27\n",
    "\n",
    "Best min impurity decrease is 0.1\n",
    "\n",
    "```"
   ]
  },
  {
   "cell_type": "code",
   "execution_count": 409,
   "metadata": {
    "id": "8a7spNAnVQNs"
   },
   "outputs": [
    {
     "name": "stdout",
     "output_type": "stream",
     "text": [
      "Testing 0.1 min impurity decrease\n",
      "Average accuracy over 4 folds is 0.7333333333333334\n",
      "Testing 0.25 min impurity decrease\n",
      "Average accuracy over 4 folds is 0.525\n",
      "Testing 0.3 min impurity decrease\n",
      "Average accuracy over 4 folds is 0.16666666666666666\n",
      "Testing 0.4 min impurity decrease\n",
      "Average accuracy over 4 folds is 0.08333333333333333\n",
      "Best min impurity decrease is 0.1\n",
      "\n",
      "Testing 0.1 min impurity decrease\n",
      "Average accuracy over 4 folds is 0.6\n",
      "Testing 0.25 min impurity decrease\n",
      "Average accuracy over 4 folds is 0.23333333333333334\n",
      "Testing 0.3 min impurity decrease\n",
      "Average accuracy over 4 folds is 0.08333333333333333\n",
      "Testing 0.4 min impurity decrease\n",
      "Average accuracy over 4 folds is 0.0\n",
      "Best min impurity decrease is 0.1\n",
      "\n",
      "Testing 0.1 min impurity decrease\n",
      "Average accuracy over 4 folds is 0.9166666666666666\n",
      "Testing 0.25 min impurity decrease\n",
      "Average accuracy over 4 folds is 0.5833333333333333\n",
      "Testing 0.3 min impurity decrease\n",
      "Average accuracy over 4 folds is 0.5833333333333333\n",
      "Testing 0.4 min impurity decrease\n",
      "Average accuracy over 4 folds is 0.16666666666666666\n",
      "Best min impurity decrease is 0.1\n",
      "\n",
      "Testing 0.1 min impurity decrease\n",
      "Average accuracy over 4 folds is 0.7083333333333334\n",
      "Testing 0.25 min impurity decrease\n",
      "Average accuracy over 4 folds is 0.5\n",
      "Testing 0.3 min impurity decrease\n",
      "Average accuracy over 4 folds is 0.25\n",
      "Testing 0.4 min impurity decrease\n",
      "Average accuracy over 4 folds is 0.16666666666666666\n",
      "Best min impurity decrease is 0.1\n",
      "\n",
      "Testing 0.1 min impurity decrease\n",
      "Average accuracy over 4 folds is 0.8166666666666668\n",
      "Testing 0.25 min impurity decrease\n",
      "Average accuracy over 4 folds is 0.8333333333333334\n",
      "Testing 0.3 min impurity decrease\n",
      "Average accuracy over 4 folds is 0.5833333333333334\n",
      "Testing 0.4 min impurity decrease\n",
      "Average accuracy over 4 folds is 0.16666666666666666\n",
      "Best min impurity decrease is 0.25\n",
      "\n"
     ]
    }
   ],
   "source": [
    "possible_min_impurity_decrease = np.array([0.1,0.25,0.3,0.4])\n",
    "\n",
    "# Outer loop\n",
    "outer_acc = np.array([])\n",
    "for k in dict_k_df_X.keys():\n",
    "    not_k = [i for i in dict_k_df_X.keys() if i != k]\n",
    "    \n",
    "    df_X_train = pd.concat([dict_k_df_X[i] for i in not_k], axis=0).reset_index(drop=True)\n",
    "    s_y_train = pd.concat([dict_k_s_y[i] for i in not_k], axis=0).reset_index(drop=True)\n",
    "\n",
    "    df_X_test = dict_k_df_X[k].reset_index(drop=True)\n",
    "    s_y_test = dict_k_s_y[k].reset_index(drop=True)\n",
    "\n",
    "    dict_mean_acc = {}\n",
    "    for pos_min_impurity in sorted(possible_min_impurity_decrease):\n",
    "        \n",
    "        print(f\"Testing {pos_min_impurity} min impurity decrease\")\n",
    "        inner_acc = np.array([])\n",
    "        dict_k_df_X_inner, dict_k_s_y_inner = partition_data(df_X_train,s_y_train,4)\n",
    "        \n",
    "        for j in dict_k_df_X_inner.keys():\n",
    "            not_k = [i for i in dict_k_df_X_inner.keys() if i != j]\n",
    "            \n",
    "            df_X_train_inner = pd.concat([dict_k_df_X_inner[i] for i in not_k], axis=0).reset_index(drop=True)\n",
    "            s_y_train_inner = pd.concat([dict_k_s_y_inner[i] for i in not_k], axis=0).reset_index(drop=True)\n",
    "\n",
    "            df_X_test_inner = dict_k_df_X_inner[j].reset_index(drop=True)\n",
    "            s_y_test_inner = dict_k_s_y_inner[j].reset_index(drop=True)\n",
    "            clf = tree.DecisionTreeClassifier(criterion=\"gini\",min_impurity_decrease=pos_min_impurity)\n",
    "            clf = clf.fit(df_X_train_inner, s_y_train_inner)\n",
    "            pred = np.array(clf.predict(df_X_test_inner))\n",
    "            inner_acc = np.append(inner_acc,get_acc(s_y_test_inner,pred))\n",
    "        print(f\"Average accuracy over {j} folds is {inner_acc.mean()}\")\n",
    "\n",
    "        if inner_acc.mean() not in dict_mean_acc:\n",
    "            dict_mean_acc[inner_acc.mean()] = pos_min_impurity\n",
    "\n",
    "    print(f\"Best min impurity decrease is {dict_mean_acc[max(dict_mean_acc.keys())]}\\n\")\n",
    "        \n",
    "    # Use best min impurity decrease to train model\n",
    "    clf = tree.DecisionTreeClassifier(criterion=\"gini\",min_impurity_decrease=0.1)\n",
    "    clf = clf.fit(df_X_train, s_y_train)\n",
    "    pred = np.array(clf.predict(df_X_test))\n",
    "\n",
    "    # outer accuracy calculation \n",
    "    this_acc = get_acc(s_y_test,pred)\n",
    "    outer_acc = np.append(outer_acc,this_acc) # make sure and calculate this_acc in your loop"
   ]
  },
  {
   "cell_type": "markdown",
   "metadata": {
    "id": "L6-dgURkVQNt"
   },
   "source": [
    "## Q2.5 Show the generalized performance of the classifier \n",
    "Show the generalized performance of the classifier by printing the min, max, and mean accuracy of the outer fold test sets."
   ]
  },
  {
   "cell_type": "code",
   "execution_count": 414,
   "metadata": {
    "id": "3wed-YLSVQNt"
   },
   "outputs": [
    {
     "name": "stdout",
     "output_type": "stream",
     "text": [
      "[1.         0.96666667 0.83333333 0.93333333 0.83333333]\n",
      "Min: 0.8333333333333334; Max: 1.0; Mean: 0.9133333333333333\n"
     ]
    }
   ],
   "source": [
    "print(outer_acc)\n",
    "print(f\"Min: {outer_acc.min()}; Max: {outer_acc.max()}; Mean: {outer_acc.mean()}\")"
   ]
  }
 ],
 "metadata": {
  "colab": {
   "name": "CS329e_HW5.ipynb",
   "provenance": []
  },
  "kernelspec": {
   "display_name": "CS329Eenv",
   "language": "python",
   "name": "cs329eenv"
  },
  "language_info": {
   "codemirror_mode": {
    "name": "ipython",
    "version": 3
   },
   "file_extension": ".py",
   "mimetype": "text/x-python",
   "name": "python",
   "nbconvert_exporter": "python",
   "pygments_lexer": "ipython3",
   "version": "3.9.13"
  }
 },
 "nbformat": 4,
 "nbformat_minor": 1
}
