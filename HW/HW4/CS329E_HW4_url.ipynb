{
 "cells": [
  {
   "attachments": {},
   "cell_type": "markdown",
   "metadata": {
    "id": "CsII0Mcormyn"
   },
   "source": [
    "\n",
    "### C S 329E HW 4\n",
    "\n",
    "## Pair Programming Group Number: \n",
    "## Members of Team: Abe Mankavil\n",
    "\n",
    "## Decision Tree Classifier\n",
    "\n",
    "\n",
    "For this weeks homework we are going to explore ideas around decision tree implementation!  \n",
    "\n",
    "We will implement some helper functions that would be necessary for a home-grown tree:\n",
    "  - calc_entropy\n",
    "  - calc_gini\n",
    "  \n",
    "and them test them out at given data splits. \n",
    "  \n",
    "And finally, to perform predictive and descriptive analytics we use the [Decision Tree Classifier](https://scikit-learn.org/stable/modules/tree.html#classification) class in the scikit-learn package.\n",
    "\n",
    "  \n",
    "For this assignment, the stopping condition will be the depth of the tree. The impurity measure can be either `Entropy` or `Gini`.\n",
    "\n",
    "To test our tree built from the Decision Tree Classifier class, we will revisit our Melbourne housing data (that has been cleaned and pruned) and use the files:\n",
    "\n",
    "   - `melb_tree_train.csv` for training the decision tree (we'll also see what happens if we use the same data to test as we used to train the data in the last problem)\n",
    "   - `melb_tree_test.csv` for testing the decision tree\n",
    "\n",
    "There are 10 features in these dataframes that we can use to describe and predict the class label housing \"Type\", which is 'h' house, 'u' duplex, or 't' townhome. "
   ]
  },
  {
   "cell_type": "code",
   "execution_count": 1081,
   "metadata": {
    "id": "XW5qmE_qrmyp"
   },
   "outputs": [],
   "source": [
    "# import the libraries\n",
    "import pandas as pd\n",
    "import numpy as np\n",
    "import matplotlib.pyplot as plt\n",
    "from math import log2\n",
    "from sklearn import tree # you'll probably need to install this - look at Q6 for a link \n",
    "import graphviz # you'll probably need to install this - look at Q6 for a link "
   ]
  },
  {
   "cell_type": "code",
   "execution_count": 1082,
   "metadata": {
    "colab": {
     "base_uri": "https://localhost:8080/",
     "height": 204
    },
    "id": "oHRp2EZkr9S2",
    "outputId": "7cc66d22-ae39-42b1-f08a-5f568fd4f87c"
   },
   "outputs": [
    {
     "data": {
      "text/html": [
       "<div>\n",
       "<style scoped>\n",
       "    .dataframe tbody tr th:only-of-type {\n",
       "        vertical-align: middle;\n",
       "    }\n",
       "\n",
       "    .dataframe tbody tr th {\n",
       "        vertical-align: top;\n",
       "    }\n",
       "\n",
       "    .dataframe thead th {\n",
       "        text-align: right;\n",
       "    }\n",
       "</style>\n",
       "<table border=\"1\" class=\"dataframe\">\n",
       "  <thead>\n",
       "    <tr style=\"text-align: right;\">\n",
       "      <th></th>\n",
       "      <th>Rooms</th>\n",
       "      <th>Type</th>\n",
       "      <th>Price</th>\n",
       "      <th>Distance</th>\n",
       "      <th>Bedroom2</th>\n",
       "      <th>Bathroom</th>\n",
       "      <th>Car</th>\n",
       "      <th>Landsize</th>\n",
       "      <th>BuildingArea</th>\n",
       "      <th>YearBuilt</th>\n",
       "      <th>CouncilArea</th>\n",
       "    </tr>\n",
       "  </thead>\n",
       "  <tbody>\n",
       "    <tr>\n",
       "      <th>0</th>\n",
       "      <td>2</td>\n",
       "      <td>t</td>\n",
       "      <td>771000.0</td>\n",
       "      <td>13.8</td>\n",
       "      <td>2.0</td>\n",
       "      <td>1.0</td>\n",
       "      <td>1.0</td>\n",
       "      <td>0.0</td>\n",
       "      <td>99.0</td>\n",
       "      <td>1992.0</td>\n",
       "      <td>Bayside</td>\n",
       "    </tr>\n",
       "    <tr>\n",
       "      <th>1</th>\n",
       "      <td>3</td>\n",
       "      <td>t</td>\n",
       "      <td>700000.0</td>\n",
       "      <td>7.9</td>\n",
       "      <td>3.0</td>\n",
       "      <td>2.0</td>\n",
       "      <td>1.0</td>\n",
       "      <td>189.0</td>\n",
       "      <td>110.0</td>\n",
       "      <td>1990.0</td>\n",
       "      <td>Banyule</td>\n",
       "    </tr>\n",
       "    <tr>\n",
       "      <th>2</th>\n",
       "      <td>3</td>\n",
       "      <td>u</td>\n",
       "      <td>975000.0</td>\n",
       "      <td>12.1</td>\n",
       "      <td>3.0</td>\n",
       "      <td>2.0</td>\n",
       "      <td>1.0</td>\n",
       "      <td>277.0</td>\n",
       "      <td>109.0</td>\n",
       "      <td>1975.0</td>\n",
       "      <td>Glen Eira</td>\n",
       "    </tr>\n",
       "    <tr>\n",
       "      <th>3</th>\n",
       "      <td>3</td>\n",
       "      <td>h</td>\n",
       "      <td>1290000.0</td>\n",
       "      <td>8.0</td>\n",
       "      <td>3.0</td>\n",
       "      <td>1.0</td>\n",
       "      <td>1.0</td>\n",
       "      <td>618.0</td>\n",
       "      <td>132.0</td>\n",
       "      <td>1960.0</td>\n",
       "      <td>Moonee Valley</td>\n",
       "    </tr>\n",
       "    <tr>\n",
       "      <th>4</th>\n",
       "      <td>2</td>\n",
       "      <td>u</td>\n",
       "      <td>500000.0</td>\n",
       "      <td>4.2</td>\n",
       "      <td>2.0</td>\n",
       "      <td>1.0</td>\n",
       "      <td>1.0</td>\n",
       "      <td>0.0</td>\n",
       "      <td>86.0</td>\n",
       "      <td>2000.0</td>\n",
       "      <td>Melbourne</td>\n",
       "    </tr>\n",
       "  </tbody>\n",
       "</table>\n",
       "</div>"
      ],
      "text/plain": [
       "   Rooms Type      Price  Distance  Bedroom2  Bathroom  Car  Landsize  \\\n",
       "0      2    t   771000.0      13.8       2.0       1.0  1.0       0.0   \n",
       "1      3    t   700000.0       7.9       3.0       2.0  1.0     189.0   \n",
       "2      3    u   975000.0      12.1       3.0       2.0  1.0     277.0   \n",
       "3      3    h  1290000.0       8.0       3.0       1.0  1.0     618.0   \n",
       "4      2    u   500000.0       4.2       2.0       1.0  1.0       0.0   \n",
       "\n",
       "   BuildingArea  YearBuilt    CouncilArea  \n",
       "0          99.0     1992.0        Bayside  \n",
       "1         110.0     1990.0        Banyule  \n",
       "2         109.0     1975.0      Glen Eira  \n",
       "3         132.0     1960.0  Moonee Valley  \n",
       "4          86.0     2000.0      Melbourne  "
      ]
     },
     "execution_count": 1082,
     "metadata": {},
     "output_type": "execute_result"
    }
   ],
   "source": [
    "df_train = pd.read_csv('https://gist.githubusercontent.com/yanyanzheng96/f8ba57f8377dee0810271475c728fca8/raw/afa3fa4305b55e31135980835d40b27af31f288c/melb_tree_train.csv')\n",
    "df_train.head()"
   ]
  },
  {
   "cell_type": "code",
   "execution_count": 1083,
   "metadata": {
    "colab": {
     "base_uri": "https://localhost:8080/",
     "height": 204
    },
    "id": "YPFbglKfsFOv",
    "outputId": "bdbf47a1-a8b7-47b8-f5cb-315cd0015a72"
   },
   "outputs": [
    {
     "data": {
      "text/html": [
       "<div>\n",
       "<style scoped>\n",
       "    .dataframe tbody tr th:only-of-type {\n",
       "        vertical-align: middle;\n",
       "    }\n",
       "\n",
       "    .dataframe tbody tr th {\n",
       "        vertical-align: top;\n",
       "    }\n",
       "\n",
       "    .dataframe thead th {\n",
       "        text-align: right;\n",
       "    }\n",
       "</style>\n",
       "<table border=\"1\" class=\"dataframe\">\n",
       "  <thead>\n",
       "    <tr style=\"text-align: right;\">\n",
       "      <th></th>\n",
       "      <th>Rooms</th>\n",
       "      <th>Type</th>\n",
       "      <th>Price</th>\n",
       "      <th>Distance</th>\n",
       "      <th>Bedroom2</th>\n",
       "      <th>Bathroom</th>\n",
       "      <th>Car</th>\n",
       "      <th>Landsize</th>\n",
       "      <th>BuildingArea</th>\n",
       "      <th>YearBuilt</th>\n",
       "      <th>CouncilArea</th>\n",
       "    </tr>\n",
       "  </thead>\n",
       "  <tbody>\n",
       "    <tr>\n",
       "      <th>0</th>\n",
       "      <td>2</td>\n",
       "      <td>t</td>\n",
       "      <td>930000.0</td>\n",
       "      <td>2.6</td>\n",
       "      <td>2.0</td>\n",
       "      <td>1.0</td>\n",
       "      <td>1.0</td>\n",
       "      <td>97.0</td>\n",
       "      <td>85.0</td>\n",
       "      <td>2004.0</td>\n",
       "      <td>Yarra</td>\n",
       "    </tr>\n",
       "    <tr>\n",
       "      <th>1</th>\n",
       "      <td>3</td>\n",
       "      <td>t</td>\n",
       "      <td>815000.0</td>\n",
       "      <td>11.0</td>\n",
       "      <td>3.0</td>\n",
       "      <td>2.0</td>\n",
       "      <td>2.0</td>\n",
       "      <td>159.0</td>\n",
       "      <td>130.0</td>\n",
       "      <td>2014.0</td>\n",
       "      <td>Hobsons Bay</td>\n",
       "    </tr>\n",
       "    <tr>\n",
       "      <th>2</th>\n",
       "      <td>4</td>\n",
       "      <td>h</td>\n",
       "      <td>638000.0</td>\n",
       "      <td>13.0</td>\n",
       "      <td>4.0</td>\n",
       "      <td>2.0</td>\n",
       "      <td>1.0</td>\n",
       "      <td>624.0</td>\n",
       "      <td>258.0</td>\n",
       "      <td>2005.0</td>\n",
       "      <td>Moreland</td>\n",
       "    </tr>\n",
       "    <tr>\n",
       "      <th>3</th>\n",
       "      <td>2</td>\n",
       "      <td>t</td>\n",
       "      <td>595000.0</td>\n",
       "      <td>11.2</td>\n",
       "      <td>2.0</td>\n",
       "      <td>2.0</td>\n",
       "      <td>1.0</td>\n",
       "      <td>201.0</td>\n",
       "      <td>111.0</td>\n",
       "      <td>2005.0</td>\n",
       "      <td>Moreland</td>\n",
       "    </tr>\n",
       "    <tr>\n",
       "      <th>4</th>\n",
       "      <td>3</td>\n",
       "      <td>t</td>\n",
       "      <td>620500.0</td>\n",
       "      <td>11.2</td>\n",
       "      <td>3.0</td>\n",
       "      <td>2.0</td>\n",
       "      <td>1.0</td>\n",
       "      <td>158.0</td>\n",
       "      <td>117.0</td>\n",
       "      <td>2011.0</td>\n",
       "      <td>Darebin</td>\n",
       "    </tr>\n",
       "  </tbody>\n",
       "</table>\n",
       "</div>"
      ],
      "text/plain": [
       "   Rooms Type     Price  Distance  Bedroom2  Bathroom  Car  Landsize  \\\n",
       "0      2    t  930000.0       2.6       2.0       1.0  1.0      97.0   \n",
       "1      3    t  815000.0      11.0       3.0       2.0  2.0     159.0   \n",
       "2      4    h  638000.0      13.0       4.0       2.0  1.0     624.0   \n",
       "3      2    t  595000.0      11.2       2.0       2.0  1.0     201.0   \n",
       "4      3    t  620500.0      11.2       3.0       2.0  1.0     158.0   \n",
       "\n",
       "   BuildingArea  YearBuilt  CouncilArea  \n",
       "0          85.0     2004.0        Yarra  \n",
       "1         130.0     2014.0  Hobsons Bay  \n",
       "2         258.0     2005.0     Moreland  \n",
       "3         111.0     2005.0     Moreland  \n",
       "4         117.0     2011.0      Darebin  "
      ]
     },
     "execution_count": 1083,
     "metadata": {},
     "output_type": "execute_result"
    }
   ],
   "source": [
    "df_test = pd.read_csv('https://gist.githubusercontent.com/yanyanzheng96/ec66da011b165f0e282c0c1f8447010e/raw/d02c3829a7e9db2d156ba1ab9d5bb4d18ae57be8/melb_tree_test.csv')\n",
    "df_test.head()"
   ]
  },
  {
   "cell_type": "markdown",
   "metadata": {
    "id": "tSpic2Eurmyq"
   },
   "source": [
    "## Q1 Load the Data\n",
    "Load in the melb_tree_train.csv into a dataframe, and split that dataframe into `df_X`, which contains the features of the data set (everything but `Type`), and `s_y`, the series containing just the class label (just `Type`). The lengths of `df_X` and `s_y` should match."
   ]
  },
  {
   "cell_type": "code",
   "execution_count": 1084,
   "metadata": {
    "id": "FnNRRkhWrmyq"
   },
   "outputs": [
    {
     "data": {
      "text/html": [
       "<div>\n",
       "<style scoped>\n",
       "    .dataframe tbody tr th:only-of-type {\n",
       "        vertical-align: middle;\n",
       "    }\n",
       "\n",
       "    .dataframe tbody tr th {\n",
       "        vertical-align: top;\n",
       "    }\n",
       "\n",
       "    .dataframe thead th {\n",
       "        text-align: right;\n",
       "    }\n",
       "</style>\n",
       "<table border=\"1\" class=\"dataframe\">\n",
       "  <thead>\n",
       "    <tr style=\"text-align: right;\">\n",
       "      <th></th>\n",
       "      <th>Rooms</th>\n",
       "      <th>Price</th>\n",
       "      <th>Distance</th>\n",
       "      <th>Bedroom2</th>\n",
       "      <th>Bathroom</th>\n",
       "      <th>Car</th>\n",
       "      <th>Landsize</th>\n",
       "      <th>BuildingArea</th>\n",
       "      <th>YearBuilt</th>\n",
       "      <th>CouncilArea</th>\n",
       "    </tr>\n",
       "  </thead>\n",
       "  <tbody>\n",
       "    <tr>\n",
       "      <th>0</th>\n",
       "      <td>2</td>\n",
       "      <td>771000.0</td>\n",
       "      <td>13.8</td>\n",
       "      <td>2.0</td>\n",
       "      <td>1.0</td>\n",
       "      <td>1.0</td>\n",
       "      <td>0.0</td>\n",
       "      <td>99.0</td>\n",
       "      <td>1992.0</td>\n",
       "      <td>Bayside</td>\n",
       "    </tr>\n",
       "    <tr>\n",
       "      <th>1</th>\n",
       "      <td>3</td>\n",
       "      <td>700000.0</td>\n",
       "      <td>7.9</td>\n",
       "      <td>3.0</td>\n",
       "      <td>2.0</td>\n",
       "      <td>1.0</td>\n",
       "      <td>189.0</td>\n",
       "      <td>110.0</td>\n",
       "      <td>1990.0</td>\n",
       "      <td>Banyule</td>\n",
       "    </tr>\n",
       "    <tr>\n",
       "      <th>2</th>\n",
       "      <td>3</td>\n",
       "      <td>975000.0</td>\n",
       "      <td>12.1</td>\n",
       "      <td>3.0</td>\n",
       "      <td>2.0</td>\n",
       "      <td>1.0</td>\n",
       "      <td>277.0</td>\n",
       "      <td>109.0</td>\n",
       "      <td>1975.0</td>\n",
       "      <td>Glen Eira</td>\n",
       "    </tr>\n",
       "    <tr>\n",
       "      <th>3</th>\n",
       "      <td>3</td>\n",
       "      <td>1290000.0</td>\n",
       "      <td>8.0</td>\n",
       "      <td>3.0</td>\n",
       "      <td>1.0</td>\n",
       "      <td>1.0</td>\n",
       "      <td>618.0</td>\n",
       "      <td>132.0</td>\n",
       "      <td>1960.0</td>\n",
       "      <td>Moonee Valley</td>\n",
       "    </tr>\n",
       "    <tr>\n",
       "      <th>4</th>\n",
       "      <td>2</td>\n",
       "      <td>500000.0</td>\n",
       "      <td>4.2</td>\n",
       "      <td>2.0</td>\n",
       "      <td>1.0</td>\n",
       "      <td>1.0</td>\n",
       "      <td>0.0</td>\n",
       "      <td>86.0</td>\n",
       "      <td>2000.0</td>\n",
       "      <td>Melbourne</td>\n",
       "    </tr>\n",
       "    <tr>\n",
       "      <th>...</th>\n",
       "      <td>...</td>\n",
       "      <td>...</td>\n",
       "      <td>...</td>\n",
       "      <td>...</td>\n",
       "      <td>...</td>\n",
       "      <td>...</td>\n",
       "      <td>...</td>\n",
       "      <td>...</td>\n",
       "      <td>...</td>\n",
       "      <td>...</td>\n",
       "    </tr>\n",
       "    <tr>\n",
       "      <th>805</th>\n",
       "      <td>2</td>\n",
       "      <td>855000.0</td>\n",
       "      <td>11.4</td>\n",
       "      <td>2.0</td>\n",
       "      <td>1.0</td>\n",
       "      <td>1.0</td>\n",
       "      <td>158.0</td>\n",
       "      <td>106.0</td>\n",
       "      <td>1994.0</td>\n",
       "      <td>Glen Eira</td>\n",
       "    </tr>\n",
       "    <tr>\n",
       "      <th>806</th>\n",
       "      <td>2</td>\n",
       "      <td>696000.0</td>\n",
       "      <td>2.6</td>\n",
       "      <td>2.0</td>\n",
       "      <td>2.0</td>\n",
       "      <td>1.0</td>\n",
       "      <td>0.0</td>\n",
       "      <td>68.0</td>\n",
       "      <td>2008.0</td>\n",
       "      <td>Yarra</td>\n",
       "    </tr>\n",
       "    <tr>\n",
       "      <th>807</th>\n",
       "      <td>2</td>\n",
       "      <td>520000.0</td>\n",
       "      <td>9.9</td>\n",
       "      <td>2.0</td>\n",
       "      <td>1.0</td>\n",
       "      <td>1.0</td>\n",
       "      <td>0.0</td>\n",
       "      <td>82.0</td>\n",
       "      <td>2011.0</td>\n",
       "      <td>Moreland</td>\n",
       "    </tr>\n",
       "    <tr>\n",
       "      <th>808</th>\n",
       "      <td>3</td>\n",
       "      <td>815000.0</td>\n",
       "      <td>4.3</td>\n",
       "      <td>3.0</td>\n",
       "      <td>2.0</td>\n",
       "      <td>2.0</td>\n",
       "      <td>198.0</td>\n",
       "      <td>130.0</td>\n",
       "      <td>1990.0</td>\n",
       "      <td>Maribyrnong</td>\n",
       "    </tr>\n",
       "    <tr>\n",
       "      <th>809</th>\n",
       "      <td>3</td>\n",
       "      <td>1302500.0</td>\n",
       "      <td>11.2</td>\n",
       "      <td>3.0</td>\n",
       "      <td>2.0</td>\n",
       "      <td>2.0</td>\n",
       "      <td>0.0</td>\n",
       "      <td>171.0</td>\n",
       "      <td>1993.0</td>\n",
       "      <td>Bayside</td>\n",
       "    </tr>\n",
       "  </tbody>\n",
       "</table>\n",
       "<p>810 rows × 10 columns</p>\n",
       "</div>"
      ],
      "text/plain": [
       "     Rooms      Price  Distance  Bedroom2  Bathroom  Car  Landsize  \\\n",
       "0        2   771000.0      13.8       2.0       1.0  1.0       0.0   \n",
       "1        3   700000.0       7.9       3.0       2.0  1.0     189.0   \n",
       "2        3   975000.0      12.1       3.0       2.0  1.0     277.0   \n",
       "3        3  1290000.0       8.0       3.0       1.0  1.0     618.0   \n",
       "4        2   500000.0       4.2       2.0       1.0  1.0       0.0   \n",
       "..     ...        ...       ...       ...       ...  ...       ...   \n",
       "805      2   855000.0      11.4       2.0       1.0  1.0     158.0   \n",
       "806      2   696000.0       2.6       2.0       2.0  1.0       0.0   \n",
       "807      2   520000.0       9.9       2.0       1.0  1.0       0.0   \n",
       "808      3   815000.0       4.3       3.0       2.0  2.0     198.0   \n",
       "809      3  1302500.0      11.2       3.0       2.0  2.0       0.0   \n",
       "\n",
       "     BuildingArea  YearBuilt    CouncilArea  \n",
       "0            99.0     1992.0        Bayside  \n",
       "1           110.0     1990.0        Banyule  \n",
       "2           109.0     1975.0      Glen Eira  \n",
       "3           132.0     1960.0  Moonee Valley  \n",
       "4            86.0     2000.0      Melbourne  \n",
       "..            ...        ...            ...  \n",
       "805         106.0     1994.0      Glen Eira  \n",
       "806          68.0     2008.0          Yarra  \n",
       "807          82.0     2011.0       Moreland  \n",
       "808         130.0     1990.0    Maribyrnong  \n",
       "809         171.0     1993.0        Bayside  \n",
       "\n",
       "[810 rows x 10 columns]"
      ]
     },
     "execution_count": 1084,
     "metadata": {},
     "output_type": "execute_result"
    }
   ],
   "source": [
    "df_X = df_train.drop(columns=['Type'])\n",
    "s_y = df_train['Type']\n",
    "df_X"
   ]
  },
  {
   "cell_type": "markdown",
   "metadata": {
    "id": "OBhSoBUYrmyq"
   },
   "source": [
    "## Q2 Implement a function to calculate entropy \n",
    "Implement a function `calc_entropy` that takes the the class label series, `s_y`, as a parameter. Implement using the definition on p128 in the DM book and only use pandas and log2 libraries"
   ]
  },
  {
   "cell_type": "code",
   "execution_count": 1085,
   "metadata": {
    "id": "Yv5e5k0Lrmyr"
   },
   "outputs": [],
   "source": [
    "# calc_entropy(s_y) definition\n",
    "def calc_entropy(s_y):\n",
    "    entropy = 0\n",
    "    for count in s_y.value_counts():\n",
    "        p_i = (count/len(s_y))\n",
    "        entropy -= p_i*np.log2(p_i)\n",
    "    return entropy"
   ]
  },
  {
   "cell_type": "markdown",
   "metadata": {
    "id": "MLp2bn0Xrmyr"
   },
   "source": [
    "## Q3 Use the entropy function to\n",
    "  - (a) Calculate the entropy of the entire training set\n",
    "  - (b) Calculate the entropy of the three partitions formed from the following three intervals:\n",
    "\n",
    "(i) Landsize $\\in [0,200]$\n",
    "\n",
    "(ii) Landsize $\\in (200,450]$\n",
    "\n",
    "(iii) Landsize $\\in (450, \\infty)$"
   ]
  },
  {
   "cell_type": "code",
   "execution_count": 1086,
   "metadata": {
    "id": "VXttKnTirmyr"
   },
   "outputs": [
    {
     "data": {
      "text/plain": [
       "1.582533311426178"
      ]
     },
     "execution_count": 1086,
     "metadata": {},
     "output_type": "execute_result"
    }
   ],
   "source": [
    "# The entire data set\n",
    "calc_entropy(s_y)"
   ]
  },
  {
   "cell_type": "code",
   "execution_count": 1087,
   "metadata": {
    "id": "qEm2Nbuxrmys"
   },
   "outputs": [
    {
     "data": {
      "text/plain": [
       "1.3456432116206725"
      ]
     },
     "execution_count": 1087,
     "metadata": {},
     "output_type": "execute_result"
    }
   ],
   "source": [
    "# Less than or equal to 200\n",
    "calc_entropy(df_train[df_train['Landsize'] <= 200]['Type'])"
   ]
  },
  {
   "cell_type": "code",
   "execution_count": 1088,
   "metadata": {
    "id": "grNiOkRgrmys"
   },
   "outputs": [
    {
     "data": {
      "text/plain": [
       "1.4613003850147297"
      ]
     },
     "execution_count": 1088,
     "metadata": {},
     "output_type": "execute_result"
    }
   ],
   "source": [
    "# Between 200 and 450\n",
    "calc_entropy(df_train[(df_train['Landsize'] >= 200) & (df_train['Landsize'] <= 450) ]['Type'])"
   ]
  },
  {
   "cell_type": "code",
   "execution_count": 1089,
   "metadata": {
    "id": "hRHOSY7Brmys"
   },
   "outputs": [
    {
     "data": {
      "text/plain": [
       "1.09954792005911"
      ]
     },
     "execution_count": 1089,
     "metadata": {},
     "output_type": "execute_result"
    }
   ],
   "source": [
    "# greater than 450\n",
    "calc_entropy(df_train[df_train['Landsize'] >= 450]['Type'])"
   ]
  },
  {
   "cell_type": "markdown",
   "metadata": {
    "id": "3STCrFxqrmys"
   },
   "source": [
    "## Q4 Implement a function to calculate the Gini Index\n",
    "Implement the function `calc_gini` that takes the class label series, `s_y`, as a parameter. Implement using the definition on p128 in the DM book and only use the pandas library."
   ]
  },
  {
   "cell_type": "code",
   "execution_count": 1090,
   "metadata": {
    "id": "9HWZHo9_rmyt"
   },
   "outputs": [],
   "source": [
    "def calc_gini(s_y):\n",
    "    gini = 0\n",
    "    for count in s_y.value_counts():\n",
    "        p_i = (count/len(s_y))\n",
    "        gini += np.power(p_i,2)\n",
    "    return 1-gini"
   ]
  },
  {
   "cell_type": "markdown",
   "metadata": {
    "id": "4oxrseZZrmyt"
   },
   "source": [
    "## Q5 Use the Gini Index function to\n",
    "  - (a) Calculate the Gini index of the entire training set\n",
    "  - (b) Calculate the Gini index of the three partitions formed from the following three intervals:\n",
    "\n",
    "(i) Landsize $\\in [0,200]$\n",
    "\n",
    "(ii) Landsize $\\in (200,450]$\n",
    "\n",
    "(iii) Landsize $\\in (450, \\infty)$"
   ]
  },
  {
   "cell_type": "code",
   "execution_count": 1091,
   "metadata": {
    "id": "hSc2RRtHrmyt"
   },
   "outputs": [
    {
     "data": {
      "text/plain": [
       "0.6655601280292638"
      ]
     },
     "execution_count": 1091,
     "metadata": {},
     "output_type": "execute_result"
    }
   ],
   "source": [
    "# The entire data set\n",
    "calc_gini(s_y)"
   ]
  },
  {
   "cell_type": "code",
   "execution_count": 1092,
   "metadata": {
    "id": "M0fGwiMurmyt"
   },
   "outputs": [
    {
     "data": {
      "text/plain": [
       "0.5741211482422965"
      ]
     },
     "execution_count": 1092,
     "metadata": {},
     "output_type": "execute_result"
    }
   ],
   "source": [
    "# Less than or equal to 200\n",
    "calc_gini(df_train[df_train['Landsize'] <= 200]['Type'])"
   ]
  },
  {
   "cell_type": "code",
   "execution_count": 1093,
   "metadata": {
    "id": "Fik-UAdErmyu"
   },
   "outputs": [
    {
     "data": {
      "text/plain": [
       "0.6077339178346639"
      ]
     },
     "execution_count": 1093,
     "metadata": {},
     "output_type": "execute_result"
    }
   ],
   "source": [
    "# Between 200 and 450\n",
    "calc_gini(df_train[(df_train['Landsize'] >= 200) & (df_train['Landsize'] <= 450) ]['Type'])"
   ]
  },
  {
   "cell_type": "code",
   "execution_count": 1094,
   "metadata": {
    "id": "wFRETURErmyu"
   },
   "outputs": [
    {
     "data": {
      "text/plain": [
       "0.43819341715976323"
      ]
     },
     "execution_count": 1094,
     "metadata": {},
     "output_type": "execute_result"
    }
   ],
   "source": [
    "# greater than 450\n",
    "calc_gini(df_train[df_train['Landsize'] >= 450]['Type'])"
   ]
  },
  {
   "cell_type": "markdown",
   "metadata": {
    "id": "-nM6TlZvrmyu"
   },
   "source": [
    "## Q6 Create a decision tree \n",
    "Using [scikit-learn](https://scikit-learn.org/stable/modules/tree.html#tree) create a multi class classifer for the data set using the Entropy impurity measure and a max depth of 3.\n",
    "\n",
    "Note that scikit-learn's algorithm doesn't handle categorical data, so that needs to be preprocessed using an one hot encoding.\n",
    "\n",
    "Display the tree using `export_text` from sklearn.tree, and use that information to write some descriptive analytics on the classification of houses.  For extra fun, use the export_graphviz to draw the graph (see documentation on the [scikit-learn webpage](https://scikit-learn.org/stable/modules/tree.html#classification)). "
   ]
  },
  {
   "cell_type": "code",
   "execution_count": 1095,
   "metadata": {
    "id": "IT9oxFhUrmyu"
   },
   "outputs": [],
   "source": [
    "# Create Tree\n",
    "_ = pd.get_dummies(df_X, prefix='CouncilArea')\n",
    "# df_X = df_X.select_dtypes(include='number')\n",
    "df_X = pd.concat([df_X.drop(columns=['CouncilArea']),_], axis=1)\n",
    "clf = tree.DecisionTreeClassifier(criterion=\"entropy\",max_depth=3)\n",
    "clf = clf.fit(df_X, s_y)"
   ]
  },
  {
   "cell_type": "code",
   "execution_count": 1096,
   "metadata": {
    "id": "ZeXj95cSrmyv"
   },
   "outputs": [
    {
     "name": "stdout",
     "output_type": "stream",
     "text": [
      "|------- YearBuilt <= 1977.50\n",
      "|       |------- Rooms <= 2.50\n",
      "|       |       |------- Price <= 915000.00\n",
      "|       |       |       |------- class: u\n",
      "|       |       |------- Price >  915000.00\n",
      "|       |       |       |------- class: h\n",
      "|       |------- Rooms >  2.50\n",
      "|       |       |------- Landsize <= 429.00\n",
      "|       |       |       |------- class: h\n",
      "|       |       |------- Landsize >  429.00\n",
      "|       |       |       |------- class: h\n",
      "|------- YearBuilt >  1977.50\n",
      "|       |------- BuildingArea <= 104.31\n",
      "|       |       |------- Landsize <= 76.00\n",
      "|       |       |       |------- class: u\n",
      "|       |       |------- Landsize >  76.00\n",
      "|       |       |       |------- class: t\n",
      "|       |------- BuildingArea >  104.31\n",
      "|       |       |------- Landsize <= 391.00\n",
      "|       |       |       |------- class: t\n",
      "|       |       |------- Landsize >  391.00\n",
      "|       |       |       |------- class: h\n",
      "\n"
     ]
    }
   ],
   "source": [
    "# Display text version of the tree\n",
    "# tree.plot_tree(clf, feature_names=df_X.columns);\n",
    "print(tree.export_text(clf,feature_names=list(df_X.columns), spacing=7))\n"
   ]
  },
  {
   "cell_type": "code",
   "execution_count": 1097,
   "metadata": {
    "id": "XFaREA6Frmyv"
   },
   "outputs": [
    {
     "data": {
      "image/svg+xml": "<?xml version=\"1.0\" encoding=\"UTF-8\" standalone=\"no\"?>\n<!DOCTYPE svg PUBLIC \"-//W3C//DTD SVG 1.1//EN\"\n \"http://www.w3.org/Graphics/SVG/1.1/DTD/svg11.dtd\">\n<!-- Generated by graphviz version 5.0.0 (20220707.1540)\n -->\n<!-- Title: Tree Pages: 1 -->\n<svg width=\"1142pt\" height=\"433pt\"\n viewBox=\"0.00 0.00 1142.00 433.00\" xmlns=\"http://www.w3.org/2000/svg\" xmlns:xlink=\"http://www.w3.org/1999/xlink\">\n<g id=\"graph0\" class=\"graph\" transform=\"scale(1 1) rotate(0) translate(4 429)\">\n<title>Tree</title>\n<polygon fill=\"white\" stroke=\"transparent\" points=\"-4,4 -4,-429 1138,-429 1138,4 -4,4\"/>\n<!-- 0 -->\n<g id=\"node1\" class=\"node\">\n<title>0</title>\n<polygon fill=\"#ffffff\" stroke=\"black\" points=\"620,-425 465,-425 465,-342 620,-342 620,-425\"/>\n<text text-anchor=\"middle\" x=\"542.5\" y=\"-409.8\" font-family=\"Helvetica,sans-Serif\" font-size=\"14.00\">YearBuilt &lt;= 1977.5</text>\n<text text-anchor=\"middle\" x=\"542.5\" y=\"-394.8\" font-family=\"Helvetica,sans-Serif\" font-size=\"14.00\">entropy = 1.583</text>\n<text text-anchor=\"middle\" x=\"542.5\" y=\"-379.8\" font-family=\"Helvetica,sans-Serif\" font-size=\"14.00\">samples = 810</text>\n<text text-anchor=\"middle\" x=\"542.5\" y=\"-364.8\" font-family=\"Helvetica,sans-Serif\" font-size=\"14.00\">value = [248, 281, 281]</text>\n<text text-anchor=\"middle\" x=\"542.5\" y=\"-349.8\" font-family=\"Helvetica,sans-Serif\" font-size=\"14.00\">class = t</text>\n</g>\n<!-- 1 -->\n<g id=\"node2\" class=\"node\">\n<title>1</title>\n<polygon fill=\"#fae7da\" stroke=\"black\" points=\"481,-306 334,-306 334,-223 481,-223 481,-306\"/>\n<text text-anchor=\"middle\" x=\"407.5\" y=\"-290.8\" font-family=\"Helvetica,sans-Serif\" font-size=\"14.00\">Rooms &lt;= 2.5</text>\n<text text-anchor=\"middle\" x=\"407.5\" y=\"-275.8\" font-family=\"Helvetica,sans-Serif\" font-size=\"14.00\">entropy = 1.264</text>\n<text text-anchor=\"middle\" x=\"407.5\" y=\"-260.8\" font-family=\"Helvetica,sans-Serif\" font-size=\"14.00\">samples = 370</text>\n<text text-anchor=\"middle\" x=\"407.5\" y=\"-245.8\" font-family=\"Helvetica,sans-Serif\" font-size=\"14.00\">value = [194, 23, 153]</text>\n<text text-anchor=\"middle\" x=\"407.5\" y=\"-230.8\" font-family=\"Helvetica,sans-Serif\" font-size=\"14.00\">class = h</text>\n</g>\n<!-- 0&#45;&gt;1 -->\n<g id=\"edge1\" class=\"edge\">\n<title>0&#45;&gt;1</title>\n<path fill=\"none\" stroke=\"black\" d=\"M495.66,-341.91C484.77,-332.47 473.09,-322.34 461.9,-312.65\"/>\n<polygon fill=\"black\" stroke=\"black\" points=\"464.1,-309.93 454.25,-306.02 459.52,-315.22 464.1,-309.93\"/>\n<text text-anchor=\"middle\" x=\"456.04\" y=\"-327.26\" font-family=\"Helvetica,sans-Serif\" font-size=\"14.00\">True</text>\n</g>\n<!-- 8 -->\n<g id=\"node9\" class=\"node\">\n<title>8</title>\n<polygon fill=\"#adf4ca\" stroke=\"black\" points=\"782.5,-306 616.5,-306 616.5,-223 782.5,-223 782.5,-306\"/>\n<text text-anchor=\"middle\" x=\"699.5\" y=\"-290.8\" font-family=\"Helvetica,sans-Serif\" font-size=\"14.00\">BuildingArea &lt;= 104.315</text>\n<text text-anchor=\"middle\" x=\"699.5\" y=\"-275.8\" font-family=\"Helvetica,sans-Serif\" font-size=\"14.00\">entropy = 1.341</text>\n<text text-anchor=\"middle\" x=\"699.5\" y=\"-260.8\" font-family=\"Helvetica,sans-Serif\" font-size=\"14.00\">samples = 440</text>\n<text text-anchor=\"middle\" x=\"699.5\" y=\"-245.8\" font-family=\"Helvetica,sans-Serif\" font-size=\"14.00\">value = [54, 258, 128]</text>\n<text text-anchor=\"middle\" x=\"699.5\" y=\"-230.8\" font-family=\"Helvetica,sans-Serif\" font-size=\"14.00\">class = t</text>\n</g>\n<!-- 0&#45;&gt;8 -->\n<g id=\"edge8\" class=\"edge\">\n<title>0&#45;&gt;8</title>\n<path fill=\"none\" stroke=\"black\" d=\"M596.97,-341.91C609.88,-332.29 623.75,-321.95 636.98,-312.09\"/>\n<polygon fill=\"black\" stroke=\"black\" points=\"639.2,-314.8 645.13,-306.02 635.02,-309.19 639.2,-314.8\"/>\n<text text-anchor=\"middle\" x=\"641.51\" y=\"-327.06\" font-family=\"Helvetica,sans-Serif\" font-size=\"14.00\">False</text>\n</g>\n<!-- 2 -->\n<g id=\"node3\" class=\"node\">\n<title>2</title>\n<polygon fill=\"#a572ed\" stroke=\"black\" points=\"271.5,-187 131.5,-187 131.5,-104 271.5,-104 271.5,-187\"/>\n<text text-anchor=\"middle\" x=\"201.5\" y=\"-171.8\" font-family=\"Helvetica,sans-Serif\" font-size=\"14.00\">Price &lt;= 915000.0</text>\n<text text-anchor=\"middle\" x=\"201.5\" y=\"-156.8\" font-family=\"Helvetica,sans-Serif\" font-size=\"14.00\">entropy = 0.974</text>\n<text text-anchor=\"middle\" x=\"201.5\" y=\"-141.8\" font-family=\"Helvetica,sans-Serif\" font-size=\"14.00\">samples = 182</text>\n<text text-anchor=\"middle\" x=\"201.5\" y=\"-126.8\" font-family=\"Helvetica,sans-Serif\" font-size=\"14.00\">value = [33, 10, 139]</text>\n<text text-anchor=\"middle\" x=\"201.5\" y=\"-111.8\" font-family=\"Helvetica,sans-Serif\" font-size=\"14.00\">class = u</text>\n</g>\n<!-- 1&#45;&gt;2 -->\n<g id=\"edge2\" class=\"edge\">\n<title>1&#45;&gt;2</title>\n<path fill=\"none\" stroke=\"black\" d=\"M336.03,-222.91C318.15,-212.75 298.88,-201.81 280.65,-191.45\"/>\n<polygon fill=\"black\" stroke=\"black\" points=\"282.22,-188.32 271.8,-186.43 278.77,-194.41 282.22,-188.32\"/>\n</g>\n<!-- 5 -->\n<g id=\"node6\" class=\"node\">\n<title>5</title>\n<polygon fill=\"#e99558\" stroke=\"black\" points=\"477.5,-187 337.5,-187 337.5,-104 477.5,-104 477.5,-187\"/>\n<text text-anchor=\"middle\" x=\"407.5\" y=\"-171.8\" font-family=\"Helvetica,sans-Serif\" font-size=\"14.00\">Landsize &lt;= 429.0</text>\n<text text-anchor=\"middle\" x=\"407.5\" y=\"-156.8\" font-family=\"Helvetica,sans-Serif\" font-size=\"14.00\">entropy = 0.737</text>\n<text text-anchor=\"middle\" x=\"407.5\" y=\"-141.8\" font-family=\"Helvetica,sans-Serif\" font-size=\"14.00\">samples = 188</text>\n<text text-anchor=\"middle\" x=\"407.5\" y=\"-126.8\" font-family=\"Helvetica,sans-Serif\" font-size=\"14.00\">value = [161, 13, 14]</text>\n<text text-anchor=\"middle\" x=\"407.5\" y=\"-111.8\" font-family=\"Helvetica,sans-Serif\" font-size=\"14.00\">class = h</text>\n</g>\n<!-- 1&#45;&gt;5 -->\n<g id=\"edge5\" class=\"edge\">\n<title>1&#45;&gt;5</title>\n<path fill=\"none\" stroke=\"black\" d=\"M407.5,-222.91C407.5,-214.65 407.5,-205.86 407.5,-197.3\"/>\n<polygon fill=\"black\" stroke=\"black\" points=\"411,-197.02 407.5,-187.02 404,-197.02 411,-197.02\"/>\n</g>\n<!-- 3 -->\n<g id=\"node4\" class=\"node\">\n<title>3</title>\n<polygon fill=\"#8f4fe8\" stroke=\"black\" points=\"125,-68 0,-68 0,0 125,0 125,-68\"/>\n<text text-anchor=\"middle\" x=\"62.5\" y=\"-52.8\" font-family=\"Helvetica,sans-Serif\" font-size=\"14.00\">entropy = 0.595</text>\n<text text-anchor=\"middle\" x=\"62.5\" y=\"-37.8\" font-family=\"Helvetica,sans-Serif\" font-size=\"14.00\">samples = 150</text>\n<text text-anchor=\"middle\" x=\"62.5\" y=\"-22.8\" font-family=\"Helvetica,sans-Serif\" font-size=\"14.00\">value = [9, 7, 134]</text>\n<text text-anchor=\"middle\" x=\"62.5\" y=\"-7.8\" font-family=\"Helvetica,sans-Serif\" font-size=\"14.00\">class = u</text>\n</g>\n<!-- 2&#45;&gt;3 -->\n<g id=\"edge3\" class=\"edge\">\n<title>2&#45;&gt;3</title>\n<path fill=\"none\" stroke=\"black\" d=\"M149.74,-103.73C137.7,-94.24 124.9,-84.16 112.92,-74.72\"/>\n<polygon fill=\"black\" stroke=\"black\" points=\"114.79,-71.74 104.77,-68.3 110.46,-77.24 114.79,-71.74\"/>\n</g>\n<!-- 4 -->\n<g id=\"node5\" class=\"node\">\n<title>4</title>\n<polygon fill=\"#eda674\" stroke=\"black\" points=\"260,-68 143,-68 143,0 260,0 260,-68\"/>\n<text text-anchor=\"middle\" x=\"201.5\" y=\"-52.8\" font-family=\"Helvetica,sans-Serif\" font-size=\"14.00\">entropy = 1.05</text>\n<text text-anchor=\"middle\" x=\"201.5\" y=\"-37.8\" font-family=\"Helvetica,sans-Serif\" font-size=\"14.00\">samples = 32</text>\n<text text-anchor=\"middle\" x=\"201.5\" y=\"-22.8\" font-family=\"Helvetica,sans-Serif\" font-size=\"14.00\">value = [24, 3, 5]</text>\n<text text-anchor=\"middle\" x=\"201.5\" y=\"-7.8\" font-family=\"Helvetica,sans-Serif\" font-size=\"14.00\">class = h</text>\n</g>\n<!-- 2&#45;&gt;4 -->\n<g id=\"edge4\" class=\"edge\">\n<title>2&#45;&gt;4</title>\n<path fill=\"none\" stroke=\"black\" d=\"M201.5,-103.73C201.5,-95.52 201.5,-86.86 201.5,-78.56\"/>\n<polygon fill=\"black\" stroke=\"black\" points=\"205,-78.3 201.5,-68.3 198,-78.3 205,-78.3\"/>\n</g>\n<!-- 6 -->\n<g id=\"node7\" class=\"node\">\n<title>6</title>\n<polygon fill=\"#efb285\" stroke=\"black\" points=\"410.5,-68 278.5,-68 278.5,0 410.5,0 410.5,-68\"/>\n<text text-anchor=\"middle\" x=\"344.5\" y=\"-52.8\" font-family=\"Helvetica,sans-Serif\" font-size=\"14.00\">entropy = 1.22</text>\n<text text-anchor=\"middle\" x=\"344.5\" y=\"-37.8\" font-family=\"Helvetica,sans-Serif\" font-size=\"14.00\">samples = 69</text>\n<text text-anchor=\"middle\" x=\"344.5\" y=\"-22.8\" font-family=\"Helvetica,sans-Serif\" font-size=\"14.00\">value = [47, 10, 12]</text>\n<text text-anchor=\"middle\" x=\"344.5\" y=\"-7.8\" font-family=\"Helvetica,sans-Serif\" font-size=\"14.00\">class = h</text>\n</g>\n<!-- 5&#45;&gt;6 -->\n<g id=\"edge6\" class=\"edge\">\n<title>5&#45;&gt;6</title>\n<path fill=\"none\" stroke=\"black\" d=\"M384.04,-103.73C379.06,-95.06 373.78,-85.9 368.77,-77.18\"/>\n<polygon fill=\"black\" stroke=\"black\" points=\"371.68,-75.22 363.66,-68.3 365.61,-78.71 371.68,-75.22\"/>\n</g>\n<!-- 7 -->\n<g id=\"node8\" class=\"node\">\n<title>7</title>\n<polygon fill=\"#e68642\" stroke=\"black\" points=\"554,-68 429,-68 429,0 554,0 554,-68\"/>\n<text text-anchor=\"middle\" x=\"491.5\" y=\"-52.8\" font-family=\"Helvetica,sans-Serif\" font-size=\"14.00\">entropy = 0.292</text>\n<text text-anchor=\"middle\" x=\"491.5\" y=\"-37.8\" font-family=\"Helvetica,sans-Serif\" font-size=\"14.00\">samples = 119</text>\n<text text-anchor=\"middle\" x=\"491.5\" y=\"-22.8\" font-family=\"Helvetica,sans-Serif\" font-size=\"14.00\">value = [114, 3, 2]</text>\n<text text-anchor=\"middle\" x=\"491.5\" y=\"-7.8\" font-family=\"Helvetica,sans-Serif\" font-size=\"14.00\">class = h</text>\n</g>\n<!-- 5&#45;&gt;7 -->\n<g id=\"edge7\" class=\"edge\">\n<title>5&#45;&gt;7</title>\n<path fill=\"none\" stroke=\"black\" d=\"M438.78,-103.73C445.64,-94.79 452.9,-85.32 459.78,-76.36\"/>\n<polygon fill=\"black\" stroke=\"black\" points=\"462.65,-78.36 465.96,-68.3 457.09,-74.1 462.65,-78.36\"/>\n</g>\n<!-- 9 -->\n<g id=\"node10\" class=\"node\">\n<title>9</title>\n<polygon fill=\"#c8a8f4\" stroke=\"black\" points=\"762,-187 637,-187 637,-104 762,-104 762,-187\"/>\n<text text-anchor=\"middle\" x=\"699.5\" y=\"-171.8\" font-family=\"Helvetica,sans-Serif\" font-size=\"14.00\">Landsize &lt;= 76.0</text>\n<text text-anchor=\"middle\" x=\"699.5\" y=\"-156.8\" font-family=\"Helvetica,sans-Serif\" font-size=\"14.00\">entropy = 1.118</text>\n<text text-anchor=\"middle\" x=\"699.5\" y=\"-141.8\" font-family=\"Helvetica,sans-Serif\" font-size=\"14.00\">samples = 145</text>\n<text text-anchor=\"middle\" x=\"699.5\" y=\"-126.8\" font-family=\"Helvetica,sans-Serif\" font-size=\"14.00\">value = [5, 49, 91]</text>\n<text text-anchor=\"middle\" x=\"699.5\" y=\"-111.8\" font-family=\"Helvetica,sans-Serif\" font-size=\"14.00\">class = u</text>\n</g>\n<!-- 8&#45;&gt;9 -->\n<g id=\"edge9\" class=\"edge\">\n<title>8&#45;&gt;9</title>\n<path fill=\"none\" stroke=\"black\" d=\"M699.5,-222.91C699.5,-214.65 699.5,-205.86 699.5,-197.3\"/>\n<polygon fill=\"black\" stroke=\"black\" points=\"703,-197.02 699.5,-187.02 696,-197.02 703,-197.02\"/>\n</g>\n<!-- 12 -->\n<g id=\"node13\" class=\"node\">\n<title>12</title>\n<polygon fill=\"#7eeead\" stroke=\"black\" points=\"990.5,-187 850.5,-187 850.5,-104 990.5,-104 990.5,-187\"/>\n<text text-anchor=\"middle\" x=\"920.5\" y=\"-171.8\" font-family=\"Helvetica,sans-Serif\" font-size=\"14.00\">Landsize &lt;= 391.0</text>\n<text text-anchor=\"middle\" x=\"920.5\" y=\"-156.8\" font-family=\"Helvetica,sans-Serif\" font-size=\"14.00\">entropy = 1.158</text>\n<text text-anchor=\"middle\" x=\"920.5\" y=\"-141.8\" font-family=\"Helvetica,sans-Serif\" font-size=\"14.00\">samples = 295</text>\n<text text-anchor=\"middle\" x=\"920.5\" y=\"-126.8\" font-family=\"Helvetica,sans-Serif\" font-size=\"14.00\">value = [49, 209, 37]</text>\n<text text-anchor=\"middle\" x=\"920.5\" y=\"-111.8\" font-family=\"Helvetica,sans-Serif\" font-size=\"14.00\">class = t</text>\n</g>\n<!-- 8&#45;&gt;12 -->\n<g id=\"edge12\" class=\"edge\">\n<title>8&#45;&gt;12</title>\n<path fill=\"none\" stroke=\"black\" d=\"M776.17,-222.91C797.23,-211.76 820.09,-199.66 841.29,-188.44\"/>\n<polygon fill=\"black\" stroke=\"black\" points=\"843.06,-191.46 850.26,-183.69 839.78,-185.27 843.06,-191.46\"/>\n</g>\n<!-- 10 -->\n<g id=\"node11\" class=\"node\">\n<title>10</title>\n<polygon fill=\"#9253e8\" stroke=\"black\" points=\"689,-68 572,-68 572,0 689,0 689,-68\"/>\n<text text-anchor=\"middle\" x=\"630.5\" y=\"-52.8\" font-family=\"Helvetica,sans-Serif\" font-size=\"14.00\">entropy = 0.523</text>\n<text text-anchor=\"middle\" x=\"630.5\" y=\"-37.8\" font-family=\"Helvetica,sans-Serif\" font-size=\"14.00\">samples = 68</text>\n<text text-anchor=\"middle\" x=\"630.5\" y=\"-22.8\" font-family=\"Helvetica,sans-Serif\" font-size=\"14.00\">value = [0, 8, 60]</text>\n<text text-anchor=\"middle\" x=\"630.5\" y=\"-7.8\" font-family=\"Helvetica,sans-Serif\" font-size=\"14.00\">class = u</text>\n</g>\n<!-- 9&#45;&gt;10 -->\n<g id=\"edge10\" class=\"edge\">\n<title>9&#45;&gt;10</title>\n<path fill=\"none\" stroke=\"black\" d=\"M673.81,-103.73C668.29,-94.97 662.45,-85.7 656.91,-76.91\"/>\n<polygon fill=\"black\" stroke=\"black\" points=\"659.78,-74.89 651.48,-68.3 653.85,-78.63 659.78,-74.89\"/>\n</g>\n<!-- 11 -->\n<g id=\"node12\" class=\"node\">\n<title>11</title>\n<polygon fill=\"#d4f9e4\" stroke=\"black\" points=\"832,-68 707,-68 707,0 832,0 832,-68\"/>\n<text text-anchor=\"middle\" x=\"769.5\" y=\"-52.8\" font-family=\"Helvetica,sans-Serif\" font-size=\"14.00\">entropy = 1.269</text>\n<text text-anchor=\"middle\" x=\"769.5\" y=\"-37.8\" font-family=\"Helvetica,sans-Serif\" font-size=\"14.00\">samples = 77</text>\n<text text-anchor=\"middle\" x=\"769.5\" y=\"-22.8\" font-family=\"Helvetica,sans-Serif\" font-size=\"14.00\">value = [5, 41, 31]</text>\n<text text-anchor=\"middle\" x=\"769.5\" y=\"-7.8\" font-family=\"Helvetica,sans-Serif\" font-size=\"14.00\">class = t</text>\n</g>\n<!-- 9&#45;&gt;11 -->\n<g id=\"edge11\" class=\"edge\">\n<title>9&#45;&gt;11</title>\n<path fill=\"none\" stroke=\"black\" d=\"M725.57,-103.73C731.16,-94.97 737.09,-85.7 742.71,-76.91\"/>\n<polygon fill=\"black\" stroke=\"black\" points=\"745.78,-78.61 748.21,-68.3 739.88,-74.84 745.78,-78.61\"/>\n</g>\n<!-- 13 -->\n<g id=\"node14\" class=\"node\">\n<title>13</title>\n<polygon fill=\"#69eb9f\" stroke=\"black\" points=\"990.5,-68 850.5,-68 850.5,0 990.5,0 990.5,-68\"/>\n<text text-anchor=\"middle\" x=\"920.5\" y=\"-52.8\" font-family=\"Helvetica,sans-Serif\" font-size=\"14.00\">entropy = 0.933</text>\n<text text-anchor=\"middle\" x=\"920.5\" y=\"-37.8\" font-family=\"Helvetica,sans-Serif\" font-size=\"14.00\">samples = 245</text>\n<text text-anchor=\"middle\" x=\"920.5\" y=\"-22.8\" font-family=\"Helvetica,sans-Serif\" font-size=\"14.00\">value = [18, 194, 33]</text>\n<text text-anchor=\"middle\" x=\"920.5\" y=\"-7.8\" font-family=\"Helvetica,sans-Serif\" font-size=\"14.00\">class = t</text>\n</g>\n<!-- 12&#45;&gt;13 -->\n<g id=\"edge13\" class=\"edge\">\n<title>12&#45;&gt;13</title>\n<path fill=\"none\" stroke=\"black\" d=\"M920.5,-103.73C920.5,-95.52 920.5,-86.86 920.5,-78.56\"/>\n<polygon fill=\"black\" stroke=\"black\" points=\"924,-78.3 920.5,-68.3 917,-78.3 924,-78.3\"/>\n</g>\n<!-- 14 -->\n<g id=\"node15\" class=\"node\">\n<title>14</title>\n<polygon fill=\"#f3c5a4\" stroke=\"black\" points=\"1134,-68 1009,-68 1009,0 1134,0 1134,-68\"/>\n<text text-anchor=\"middle\" x=\"1071.5\" y=\"-52.8\" font-family=\"Helvetica,sans-Serif\" font-size=\"14.00\">entropy = 1.24</text>\n<text text-anchor=\"middle\" x=\"1071.5\" y=\"-37.8\" font-family=\"Helvetica,sans-Serif\" font-size=\"14.00\">samples = 50</text>\n<text text-anchor=\"middle\" x=\"1071.5\" y=\"-22.8\" font-family=\"Helvetica,sans-Serif\" font-size=\"14.00\">value = [31, 15, 4]</text>\n<text text-anchor=\"middle\" x=\"1071.5\" y=\"-7.8\" font-family=\"Helvetica,sans-Serif\" font-size=\"14.00\">class = h</text>\n</g>\n<!-- 12&#45;&gt;14 -->\n<g id=\"edge14\" class=\"edge\">\n<title>12&#45;&gt;14</title>\n<path fill=\"none\" stroke=\"black\" d=\"M976.73,-103.73C990.06,-94.06 1004.25,-83.77 1017.48,-74.17\"/>\n<polygon fill=\"black\" stroke=\"black\" points=\"1019.54,-77 1025.58,-68.3 1015.43,-71.34 1019.54,-77\"/>\n</g>\n</g>\n</svg>\n",
      "text/plain": [
       "<graphviz.sources.Source at 0x167278790>"
      ]
     },
     "execution_count": 1097,
     "metadata": {},
     "output_type": "execute_result"
    }
   ],
   "source": [
    "# Display graphviz version of the tree s_y.value_counts().index\n",
    "dot_data = tree.export_graphviz(clf, out_file=None, feature_names=df_X.columns, class_names=['h','t','u'] , filled=True) \n",
    "graph = graphviz.Source(dot_data) \n",
    "graph.render('melb')\n",
    "graph "
   ]
  },
  {
   "attachments": {},
   "cell_type": "markdown",
   "metadata": {
    "id": "UtkL3I7Irmyv"
   },
   "source": [
    "➡️ Answer containing your descriptive analytics in markdown here ⬅️\n",
    "# Descriptive Analysis\n",
    "\n",
    "- Not many townhouses were built prior to 1977\n",
    "- Units or Duplexes tended to have less landsize and as a result were often cheaper than houses\n",
    "- Houses often have much more land size and building area than either units or townhouses\n",
    "- Living quarters built pre-1978 with very large land areas were usually houses "
   ]
  },
  {
   "cell_type": "markdown",
   "metadata": {
    "id": "jw32op9grmyv"
   },
   "source": [
    "## Q7 Calculate the Accuracy and Display Learning Curve\n",
    "Load in the test data from melb_tree_test.csv.\n",
    "\n",
    "Use the scikit-learn library to create many decision trees, each one with a different configuration (aka Hyperparameters).  You will create 28 different trees by:\n",
    "\n",
    "    - Varying the max depth from 2 to 15 with the Gini Index as the impurity measure\n",
    "    - Varying the max depth from 2 to 15 with the Entropy as the impurity measure\n",
    "\n",
    "Implementation tip: you can create an array of numbers from 2 to 15 by using the numpy function [arange](https://numpy.org/doc/stable/reference/generated/numpy.arange.html).\n",
    "\n",
    "For each of the 28 decistion trees, calculate the error rate by using the data in the: \n",
    "  - Training set, and\n",
    "  - Test set.\n",
    "\n",
    "Display the results graphicaly, and offer an analysis of the trend (or if no trend present, offer a hypotheisis of why).  The max depth should be on the x-axis, and the error rate should be on the y-axis (see figure 3.23 in your DM textbook for a similar style of graph that uses leaf nodes instead of depth for the x-axis). Your plot will include 4 series of data\n",
    "   - Test error (entropy)\n",
    "   - Test error (gini index)\n",
    "   - Training error (entropy)\n",
    "   - Training error (gini index)"
   ]
  },
  {
   "cell_type": "code",
   "execution_count": 1098,
   "metadata": {
    "id": "6Y7YProxrmyw"
   },
   "outputs": [],
   "source": [
    "# Load in the test data\n",
    "df_Xtest = df_test.drop(columns=['Type'])\n",
    "s_ytest = df_test['Type']\n",
    "_ = pd.get_dummies(df_Xtest, prefix='CouncilArea')\n",
    "df_Xtest = pd.concat([df_Xtest.drop(columns=['CouncilArea']),_], axis=1)"
   ]
  },
  {
   "cell_type": "code",
   "execution_count": 1099,
   "metadata": {
    "id": "Mn7Ocq2zrmyw"
   },
   "outputs": [],
   "source": [
    "# Build the trees using the training data\n",
    "depths = np.arange(2,16)\n",
    "gini_trees = {}\n",
    "entropy_trees = {}\n",
    "for depth in depths:\n",
    "    clf = tree.DecisionTreeClassifier(criterion=\"gini\",max_depth=depth)\n",
    "    gini_trees[depth] = clf.fit(df_X, s_y)\n",
    "    clf = tree.DecisionTreeClassifier(criterion=\"entropy\",max_depth=depth)\n",
    "    entropy_trees[depth] = clf.fit(df_X, s_y)\n",
    "    "
   ]
  },
  {
   "cell_type": "code",
   "execution_count": 1100,
   "metadata": {
    "id": "E-z2Clf2rmyw"
   },
   "outputs": [
    {
     "data": {
      "image/png": "[encoded data removed]",
      "text/plain": [
       "<Figure size 640x480 with 1 Axes>"
      ]
     },
     "metadata": {},
     "output_type": "display_data"
    }
   ],
   "source": [
    "# Plot the 4 learning curves\n",
    "train_gini_err, train_entro_err,test_gini_err, test_entro_err  = [], [], [], []\n",
    "\n",
    "for depth in depths:\n",
    "    pred = np.array(gini_trees[depth].predict(df_X))\n",
    "    train_gini_err.append(np.sum(pred != s_y)/len(s_y))\n",
    "    pred = np.array(gini_trees[depth].predict(df_Xtest))\n",
    "    test_gini_err.append(np.sum(pred != s_ytest)/len(s_ytest))\n",
    "    pred = np.array(entropy_trees[depth].predict(df_X))\n",
    "    train_entro_err.append(np.sum(pred != s_y)/len(s_y))\n",
    "    pred = np.array(entropy_trees[depth].predict(df_Xtest))\n",
    "    test_entro_err.append(np.sum(pred != s_ytest)/len(s_ytest))\n",
    "\n",
    "plt.plot(depths, train_gini_err,'-o')\n",
    "plt.plot(depths, train_entro_err, '-o')\n",
    "plt.plot(depths, test_gini_err, '-o')\n",
    "plt.plot(depths, test_entro_err, '-o')\n",
    "plt.xlabel('Max Depth of Decision Tree')\n",
    "plt.ylabel('Error')\n",
    "plt.title('Error Rate of Decision Trees For Changing Max Depths')\n",
    "plt.legend(['train_gini_err', 'train_entro_err', 'test_gini_err', 'test_entro_err'])\n",
    "plt.show()\n",
    "\n"
   ]
  },
  {
   "attachments": {},
   "cell_type": "markdown",
   "metadata": {
    "id": "sTT774qwrmyw"
   },
   "source": [
    "➡️ Answer containing your analysis of the trend (or if no trend present, offer a hypotheisis of why) here ⬅️\n",
    "- It appears that both criterions of node splitting decisions, 'entropy' and 'gini', offer very similar results in  terms of the accuracy of the model \n",
    "- Clearly the tree with a depth of more than 4 is overfit and too complex because the training error continues to shink, meanwhile the test error stays very large\n",
    "- Naturally the training error continues to decline because it's running more if-then statements on the same dataset that it was trained on in the first place\n",
    "- The model is not very accurate because at best, when the model is acting on the testing set, it has an error rate of roughly 19%."
   ]
  }
 ],
 "metadata": {
  "colab": {
   "collapsed_sections": [],
   "name": "CS329E_HW4.ipynb",
   "provenance": []
  },
  "kernelspec": {
   "display_name": "CS329Eenv",
   "language": "python",
   "name": "cs329eenv"
  },
  "language_info": {
   "name": "python",
   "version": "3.9.13"
  }
 },
 "nbformat": 4,
 "nbformat_minor": 1
}
