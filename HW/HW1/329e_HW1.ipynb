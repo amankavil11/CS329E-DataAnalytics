{
 "cells": [
  {
   "cell_type": "markdown",
   "metadata": {
    "id": "BoxpSMDOX1_y"
   },
   "source": [
    "# Homework 1\n",
    "\n",
    "## Pair Programming Group Number: 22\n",
    "## Members of Team: Abe Mankavil\n",
    "\n",
    "\n",
    "### Data maniupuation and Visualization!\n",
    "\n",
    "In our first assignment you will practice manipuating and visualizing data from a real wold data set, Melbourne Australia home sales records. \n",
    "\n",
    "### The Data\n",
    "\n",
    "Was taken from a Kaggle competition, and came with the following descriptions:\n",
    "Content & Acknowledgements\n",
    "\n",
    "```\n",
    "This data was scraped from publicly available results posted every week from Domain.com.au, I've cleaned it as best I can, now it's up to you to make data analysis magic. The dataset includes Address, Type of Real estate, Suburb, Method of Selling, Rooms, Price, Real Estate Agent, Date of Sale and distance from C.B.D.\n",
    "\n",
    "….Now with extra data including including property size, land size and council area, you may need to change your code!\n",
    "\n",
    "Some Key Details\n",
    "Suburb: Suburb\n",
    "\n",
    "Address: Address\n",
    "\n",
    "Rooms: Number of rooms\n",
    "\n",
    "Price: Price in Australian dollars\n",
    "\n",
    "Method:\n",
    "S - property sold;\n",
    "SP - property sold prior;\n",
    "PI - property passed in;\n",
    "PN - sold prior not disclosed;\n",
    "SN - sold not disclosed;\n",
    "NB - no bid;\n",
    "VB - vendor bid;\n",
    "W - withdrawn prior to auction;\n",
    "SA - sold after auction;\n",
    "SS - sold after auction price not disclosed.\n",
    "N/A - price or highest bid not available.\n",
    "\n",
    "Type:\n",
    "br - bedroom(s);\n",
    "h - house,cottage,villa, semi,terrace;\n",
    "u - unit, duplex;\n",
    "t - townhouse;\n",
    "dev site - development site;\n",
    "o res - other residential.\n",
    "\n",
    "SellerG: Real Estate Agent\n",
    "\n",
    "Date: Date sold\n",
    "\n",
    "Distance: Distance from CBD in Kilometres\n",
    "\n",
    "Regionname: General Region (West, North West, North, North east …etc)\n",
    "\n",
    "Propertycount: Number of properties that exist in the suburb.\n",
    "\n",
    "Bedroom2 : Scraped # of Bedrooms (from different source)\n",
    "\n",
    "Bathroom: Number of Bathrooms\n",
    "\n",
    "Car: Number of carspots\n",
    "\n",
    "Landsize: Land Size in Metres\n",
    "\n",
    "BuildingArea: Building Size in Metres\n",
    "\n",
    "YearBuilt: Year the house was built\n",
    "\n",
    "CouncilArea: Governing council for the area\n",
    "\n",
    "Lattitude: Self explanitory\n",
    "\n",
    "Longtitude: Self explanitory\n",
    "```\n"
   ]
  },
  {
   "cell_type": "markdown",
   "metadata": {
    "id": "Xc3WoTIgX1_z"
   },
   "source": [
    "## Q1 - Loading Data\n",
    "Run the following code section to load dataset into a pandas DataFrame named `df`. If you need to look up other\n",
    "syntax on how to read csv files you can find it [here](https://pandas.pydata.org/docs/reference/api/pandas.read_csv.html)."
   ]
  },
  {
   "cell_type": "code",
   "execution_count": 2,
   "metadata": {
    "colab": {
     "base_uri": "https://localhost:8080/",
     "height": 343
    },
    "id": "meTTfqQNX1_0",
    "outputId": "c363dbf2-a018-43c1-bb4d-0062e4a6ee45"
   },
   "outputs": [],
   "source": [
    "# remember to type in your standard library import for pandas first\n",
    "import pandas as pd\n",
    "\n",
    "url = 'https://gist.githubusercontent.com/TieJean/ba718aac753c2f90e3d4e040d8f7d982/raw/2aca4164b087fa86721e877b4f1a6bd46d687035/melb_data.csv'\n",
    "\n",
    "\n",
    "df = pd.read_csv(url)\n"
   ]
  },
  {
   "cell_type": "markdown",
   "metadata": {
    "id": "w8oF--FrX1_0"
   },
   "source": [
    "## Q2 - How many unique suburbs are there?\n",
    "\n",
    "Are there any pandas DataFrame operations that can do this for you?\n",
    "\n",
    "[This](https://pandas.pydata.org/pandas-docs/stable/reference/api/pandas.Series.nunique.html) function might help. "
   ]
  },
  {
   "cell_type": "code",
   "execution_count": 3,
   "metadata": {
    "id": "hLKvAS0YX1_1"
   },
   "outputs": [
    {
     "data": {
      "text/plain": [
       "314"
      ]
     },
     "execution_count": 3,
     "metadata": {},
     "output_type": "execute_result"
    }
   ],
   "source": [
    "df['Suburb'].nunique()"
   ]
  },
  {
   "cell_type": "markdown",
   "metadata": {
    "id": "e6X1RCrUX1_1"
   },
   "source": [
    "## Q3 - How many unique properties are there?\n",
    "\n",
    "If you forget the names of the columns you can always type:\n",
    "\n",
    "`df.columns` \n",
    "\n",
    "in a cell by itself to see this list of column names."
   ]
  },
  {
   "cell_type": "code",
   "execution_count": 4,
   "metadata": {
    "id": "ER7hBbf9X1_2"
   },
   "outputs": [
    {
     "data": {
      "text/plain": [
       "13378"
      ]
     },
     "execution_count": 4,
     "metadata": {},
     "output_type": "execute_result"
    }
   ],
   "source": [
    "df['Address'].nunique()"
   ]
  },
  {
   "cell_type": "markdown",
   "metadata": {
    "id": "BtVI3MNMX1_2"
   },
   "source": [
    "## Q4 - What is the mean price of a property in the Kensington suburb?\n",
    "\n",
    "You are getting the hang of reading the documentation!  Try finding the function\n",
    "for mean yourself at the [root page](https://pandas.pydata.org/pandas-docs/stable/index.html) of the documentation."
   ]
  },
  {
   "cell_type": "code",
   "execution_count": 5,
   "metadata": {
    "id": "Z9l57TjwX1_3"
   },
   "outputs": [
    {
     "data": {
      "text/plain": [
       "1075684.079455081"
      ]
     },
     "execution_count": 5,
     "metadata": {},
     "output_type": "execute_result"
    }
   ],
   "source": [
    "df['Price'].mean()"
   ]
  },
  {
   "cell_type": "markdown",
   "metadata": {
    "id": "-8ZCoblfX1_4"
   },
   "source": [
    "## Q5 - What percentage of properties contain a YearBuilt value?"
   ]
  },
  {
   "cell_type": "code",
   "execution_count": 6,
   "metadata": {
    "id": "mRRvcWjQX1_4"
   },
   "outputs": [
    {
     "name": "stdout",
     "output_type": "stream",
     "text": [
      "60.41973490427098\n"
     ]
    }
   ],
   "source": [
    "foo = len(df['YearBuilt'].dropna())\n",
    "bar = len(df)\n",
    "print((foo/bar)*100)\n"
   ]
  },
  {
   "cell_type": "markdown",
   "metadata": {
    "id": "aiQCYn_IX1_4"
   },
   "source": [
    "## Q6 - Plot the Landsize as a histogram using 20 bins. Say something interesting about the graph.\n",
    "\n",
    "Matplotlib is [here](https://matplotlib.org/3.3.3/api/_as_gen/matplotlib.pyplot.hist.html) to help. \n",
    "\n",
    "In data visualization we discuss the \"Ink Ratio\" of creating graphics.  If you use the definalt bin sizes of the matplotlib histogram function, you will find that the histogram is not very informative.  Use the documentation to guide you to adjust the width of the bins in the histogram to make one _really_ wide bin on the right, and the rest of the bins equally distributed where most of the data resides. "
   ]
  },
  {
   "cell_type": "code",
   "execution_count": 54,
   "metadata": {
    "id": "Oo6vG_lMX1_5"
   },
   "outputs": [
    {
     "data": {
      "image/png": "[encoded data removed]",
      "text/plain": [
       "<Figure size 640x480 with 1 Axes>"
      ]
     },
     "metadata": {},
     "output_type": "display_data"
    }
   ],
   "source": [
    "import matplotlib.pyplot as plt\n",
    "\n",
    "data = df['Landsize']\n",
    "bin_width = [i*1500 for i in range(1,20)] + [max(data)]\n",
    "plt.hist(data, bins=bin_width);\n",
    "plt.title('Histogram of Melbourne Property Landsize');\n",
    "plt.xlabel('Landsize (m)');\n",
    "plt.ylabel('Count');\n",
    "\n"
   ]
  },
  {
   "cell_type": "markdown",
   "metadata": {
    "id": "yd42RX90X1_5"
   },
   "source": [
    "## Q7 - Plot a scatter plot of price as a function of BuildingArea using only rows that have a valid BuildingArea value\n",
    "\n",
    "Break this down into slicing the DataFrame first, then creating the visualization.  There are both `plot` and `scatter` functions in the matplotlib library that can help here.  You'll notice there is more than one way to do a thing so much in computer science 😄\n",
    "\n",
    "If you have to change your axes and end up excluding some points to make the data more visible, then annotate the number of points excluded in the graph. "
   ]
  },
  {
   "cell_type": "code",
   "execution_count": 35,
   "metadata": {
    "id": "8rCVjyRkX1_5"
   },
   "outputs": [
    {
     "name": "stdout",
     "output_type": "stream",
     "text": [
      "No. of Excluded Data Points: 8\n"
     ]
    },
    {
     "data": {
      "image/png": "[encoded data removed]",
      "text/plain": [
       "<Figure size 640x480 with 1 Axes>"
      ]
     },
     "metadata": {},
     "output_type": "display_data"
    }
   ],
   "source": [
    "foo = df[df['BuildingArea'].notna()]\n",
    "plt.scatter(foo['BuildingArea'], foo['Price'])\n",
    "counter = 0\n",
    "for x in foo['BuildingArea']:\n",
    "    if x > 1000:\n",
    "        counter += 1\n",
    "print(f\"No. of Excluded Data Points: {counter}\")\n",
    "    \n",
    "plt.title('Price vs Bulding Area in Melbourne Properties');\n",
    "plt.xlabel('Building Area (m)');\n",
    "plt.ylabel('Price (AUD)')\n",
    "plt.xlim(0,1000);\n"
   ]
  },
  {
   "cell_type": "markdown",
   "metadata": {
    "id": "JBJ-e7kXX1_6"
   },
   "source": [
    "## Q8 - List the top 10 SellerG, and what percentage of properties they have listed \n",
    "\n",
    "I'm going to assume that the SellerG column is the name of the seller group, so \"realtor\" in US parlance.  So, that column is interpreted as the seller that listed the property.\n",
    "\n",
    "Check out the function `value_counts` in pandas documentation. "
   ]
  },
  {
   "cell_type": "code",
   "execution_count": 121,
   "metadata": {
    "id": "UgG7EEkMX1_6"
   },
   "outputs": [
    {
     "name": "stdout",
     "output_type": "stream",
     "text": [
      "{'Nelson': 11.524300441826215, 'Jellis': 9.690721649484537, 'hockingstuart': 8.593519882179676, 'Barry': 7.444771723122239, 'Ray': 5.1620029455081, 'Marshall': 4.852724594992637, 'Buxton': 4.6539027982326955, 'Biggin': 2.893961708394698, 'Brad': 2.5184094256259204, 'Fletchers': 2.216494845360825}\n"
     ]
    }
   ],
   "source": [
    "foo = df['SellerG'].value_counts().head(10)\n",
    "#key:value pair represents key as realtor and value as percent of properties they have listed\n",
    "print({seller: 100*(houses/len(df)) for seller, houses in foo.items()})"
   ]
  },
  {
   "cell_type": "markdown",
   "metadata": {
    "id": "5MBx3GOSX1_6"
   },
   "source": [
    "## Q9 - Fix a problem\n",
    "Your boss has told you that the number of rooms was calculated incorrectly systematically across the entire data set.  Add one room to the Rooms column using two methods:\n",
    "\n",
    " - a for loop, and\n",
    " - using a single statement\n",
    " \n",
    "Save those DataFrames into the variables `df1` and `df2`.  (We don't use these again, for the next questions just continue using `df`)\n",
    "\n",
    "Watch out that you don't accidentally change the original DataFrame using a shallow copy."
   ]
  },
  {
   "cell_type": "code",
   "execution_count": 133,
   "metadata": {
    "id": "r0ShZHNWX1_6"
   },
   "outputs": [
    {
     "name": "stderr",
     "output_type": "stream",
     "text": [
      "/var/folders/0r/lprjchvd593dyrpzsrg6jjrm0000gn/T/ipykernel_18452/1086557922.py:3: SettingWithCopyWarning: \n",
      "A value is trying to be set on a copy of a slice from a DataFrame\n",
      "\n",
      "See the caveats in the documentation: https://pandas.pydata.org/pandas-docs/stable/user_guide/indexing.html#returning-a-view-versus-a-copy\n",
      "  df1['Rooms'].iloc[i] += 1\n"
     ]
    }
   ],
   "source": [
    "df1 = df.copy()\n",
    "for i in range(len(df1)):\n",
    "    df1['Rooms'].iloc[i] += 1\n",
    "df2 = df.copy()\n",
    "df2['Rooms'] += 1"
   ]
  },
  {
   "cell_type": "markdown",
   "metadata": {
    "id": "FygRoLlQX1_6"
   },
   "source": [
    "## Q10- What is the Address of the earliest built house in the data set?\n",
    "\n",
    "This will exercise your DataFrame slicing ability. "
   ]
  },
  {
   "cell_type": "code",
   "execution_count": 151,
   "metadata": {
    "id": "82HQO9rUX1_7"
   },
   "outputs": [
    {
     "name": "stderr",
     "output_type": "stream",
     "text": [
      "/var/folders/0r/lprjchvd593dyrpzsrg6jjrm0000gn/T/ipykernel_18452/761811161.py:1: FutureWarning: Dropping invalid columns in DataFrameGroupBy.min is deprecated. In a future version, a TypeError will be raised. Before calling .min, select only columns which should be valid for the function.\n",
      "  df.groupby('YearBuilt', dropna=True).min()['Address'].iloc[0]\n"
     ]
    },
    {
     "data": {
      "text/plain": [
       "'5 Armstrong St'"
      ]
     },
     "execution_count": 151,
     "metadata": {},
     "output_type": "execute_result"
    }
   ],
   "source": [
    "df.groupby('YearBuilt', dropna=True).min()['Address'].iloc[0]"
   ]
  },
  {
   "cell_type": "markdown",
   "metadata": {
    "id": "4N996VLjX1_7"
   },
   "source": [
    "## Q11 - Save a file \n",
    "\n",
    "The council member for Melbourne has asked for the information for their district.  Assume that there are legal restrcitions and we can only provide the council member the Suburb, Price, and Date from the CouncilArea \"Melbourne\" to the council person.  Export the file with only the allowed columns, and do not write and index column.\n",
    "\n",
    "The other half of `read_csv`, is `to_csv`.  Make sure you follow the documentation and only include the columns asked for in the output."
   ]
  },
  {
   "cell_type": "code",
   "execution_count": 167,
   "metadata": {
    "id": "MM_CwR9tX1_7"
   },
   "outputs": [],
   "source": [
    "foo = df[df['CouncilArea'] == 'Melbourne'][['Suburb', 'Price', 'Date']]\n",
    "foo.to_csv('~/Desktop/MelbourneHousing.csv', header = False, index=False)\n",
    "\n"
   ]
  }
 ],
 "metadata": {
  "colab": {
   "collapsed_sections": [],
   "name": "329e_HW1.ipynb",
   "provenance": []
  },
  "kernelspec": {
   "display_name": "CS329Eenv",
   "language": "python",
   "name": "cs329eenv"
  },
  "language_info": {
   "codemirror_mode": {
    "name": "ipython",
    "version": 3
   },
   "file_extension": ".py",
   "mimetype": "text/x-python",
   "name": "python",
   "nbconvert_exporter": "python",
   "pygments_lexer": "ipython3",
   "version": "3.9.13"
  }
 },
 "nbformat": 4,
 "nbformat_minor": 1
}
