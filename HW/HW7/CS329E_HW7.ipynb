{
 "cells": [
  {
   "attachments": {},
   "cell_type": "markdown",
   "metadata": {},
   "source": [
    "## C S 329E HW 7\n",
    "\n",
    "# Naive Bayes \n",
    "\n",
    "## Abe Mankavil Group #22\n",
    "\n",
    "For this week's homework we are going explore one new classification technique:\n",
    "\n",
    "  - Naive Bayes\n",
    "\n",
    "We are reusing the version of the Melbourne housing data set from HW6, to predict the housing type as one of three possible categories:\n",
    "\n",
    "  - 'h' house\n",
    "  - 'u' duplex\n",
    "  - 't' townhouse\n",
    "\n",
    "In addition to building our own Naive Bayes classifier, we are going to compare the performace of our classifier to the [Gaussian Naive Bayes Classifier](https://scikit-learn.org/stable/modules/naive_bayes.html#gaussian-naive-bayes) available in the scikit-learn library. "
   ]
  },
  {
   "cell_type": "code",
   "execution_count": 226,
   "metadata": {},
   "outputs": [
    {
     "data": {
      "text/html": [
       "<div>\n",
       "<style scoped>\n",
       "    .dataframe tbody tr th:only-of-type {\n",
       "        vertical-align: middle;\n",
       "    }\n",
       "\n",
       "    .dataframe tbody tr th {\n",
       "        vertical-align: top;\n",
       "    }\n",
       "\n",
       "    .dataframe thead th {\n",
       "        text-align: right;\n",
       "    }\n",
       "</style>\n",
       "<table border=\"1\" class=\"dataframe\">\n",
       "  <thead>\n",
       "    <tr style=\"text-align: right;\">\n",
       "      <th></th>\n",
       "      <th>Rooms</th>\n",
       "      <th>Type</th>\n",
       "      <th>Price</th>\n",
       "      <th>Date</th>\n",
       "      <th>Distance</th>\n",
       "      <th>Postcode</th>\n",
       "      <th>Bathroom</th>\n",
       "      <th>Car</th>\n",
       "      <th>Landsize</th>\n",
       "      <th>BuildingArea</th>\n",
       "      <th>YearBuilt</th>\n",
       "    </tr>\n",
       "  </thead>\n",
       "  <tbody>\n",
       "    <tr>\n",
       "      <th>0</th>\n",
       "      <td>2</td>\n",
       "      <td>h</td>\n",
       "      <td>399000</td>\n",
       "      <td>7/5/16</td>\n",
       "      <td>8.7</td>\n",
       "      <td>3032</td>\n",
       "      <td>1</td>\n",
       "      <td>1.0</td>\n",
       "      <td>904</td>\n",
       "      <td>53.0</td>\n",
       "      <td>1985.0</td>\n",
       "    </tr>\n",
       "    <tr>\n",
       "      <th>1</th>\n",
       "      <td>3</td>\n",
       "      <td>h</td>\n",
       "      <td>1241000</td>\n",
       "      <td>28/08/2016</td>\n",
       "      <td>13.9</td>\n",
       "      <td>3165</td>\n",
       "      <td>1</td>\n",
       "      <td>1.0</td>\n",
       "      <td>643</td>\n",
       "      <td>NaN</td>\n",
       "      <td>NaN</td>\n",
       "    </tr>\n",
       "    <tr>\n",
       "      <th>2</th>\n",
       "      <td>2</td>\n",
       "      <td>u</td>\n",
       "      <td>550000</td>\n",
       "      <td>8/7/17</td>\n",
       "      <td>3.0</td>\n",
       "      <td>3067</td>\n",
       "      <td>1</td>\n",
       "      <td>1.0</td>\n",
       "      <td>1521</td>\n",
       "      <td>NaN</td>\n",
       "      <td>NaN</td>\n",
       "    </tr>\n",
       "    <tr>\n",
       "      <th>3</th>\n",
       "      <td>3</td>\n",
       "      <td>u</td>\n",
       "      <td>691000</td>\n",
       "      <td>24/06/2017</td>\n",
       "      <td>8.4</td>\n",
       "      <td>3072</td>\n",
       "      <td>1</td>\n",
       "      <td>1.0</td>\n",
       "      <td>170</td>\n",
       "      <td>NaN</td>\n",
       "      <td>NaN</td>\n",
       "    </tr>\n",
       "    <tr>\n",
       "      <th>4</th>\n",
       "      <td>2</td>\n",
       "      <td>u</td>\n",
       "      <td>657500</td>\n",
       "      <td>19/11/2016</td>\n",
       "      <td>4.6</td>\n",
       "      <td>3122</td>\n",
       "      <td>1</td>\n",
       "      <td>1.0</td>\n",
       "      <td>728</td>\n",
       "      <td>73.0</td>\n",
       "      <td>1965.0</td>\n",
       "    </tr>\n",
       "  </tbody>\n",
       "</table>\n",
       "</div>"
      ],
      "text/plain": [
       "   Rooms Type    Price        Date  Distance  Postcode  Bathroom  Car  \\\n",
       "0      2    h   399000      7/5/16       8.7      3032         1  1.0   \n",
       "1      3    h  1241000  28/08/2016      13.9      3165         1  1.0   \n",
       "2      2    u   550000      8/7/17       3.0      3067         1  1.0   \n",
       "3      3    u   691000  24/06/2017       8.4      3072         1  1.0   \n",
       "4      2    u   657500  19/11/2016       4.6      3122         1  1.0   \n",
       "\n",
       "   Landsize  BuildingArea  YearBuilt  \n",
       "0       904          53.0     1985.0  \n",
       "1       643           NaN        NaN  \n",
       "2      1521           NaN        NaN  \n",
       "3       170           NaN        NaN  \n",
       "4       728          73.0     1965.0  "
      ]
     },
     "execution_count": 226,
     "metadata": {},
     "output_type": "execute_result"
    }
   ],
   "source": [
    "# These are the libraries you will use for this assignment\n",
    "import pandas as pd\n",
    "import numpy as np\n",
    "import matplotlib.pyplot as plt\n",
    "import time\n",
    "import calendar\n",
    "from sklearn.naive_bayes import GaussianNB # The only thing in scikit-learn you can use this assignment\n",
    "\n",
    "# Starting off loading a training set and setting a variable for the target column, \"Type\"\n",
    "df_melb = pd.read_csv('https://gist.githubusercontent.com/yanyanzheng96/81b236aecee57f6cf65e60afd865d2bb/raw/56ddb53aa90c26ab1bdbfd0b8d8229c8d08ce45a/melb_data_train.csv')\n",
    "target_col = 'Type'\n",
    "df_melb.head()"
   ]
  },
  {
   "cell_type": "markdown",
   "metadata": {},
   "source": [
    "## Q1 - Fix a column of data to be numeric\n",
    "If we inspect our dataframe, `df_melb` using the `dtypes` method, we see that the column \"Date\" is an object.  However, we think this column might contain useful information so we want to convert it to [seconds since epoch](https://en.wikipedia.org/wiki/Unix_time). Use only the exiting imported libraries to create a new column \"unixtime\". Be careful, the date strings in the file might have some non-uniform formating that you have to fix first.  Print out the min and max epoch time to check your work.  Drop the original \"Date\" column. \n",
    "\n",
    "THESE ARE THE EXACT SAME INSTRUCTIONS FROM HW6! Please take this opportunity to reuse your code (if you got it right last time). "
   ]
  },
  {
   "cell_type": "code",
   "execution_count": 227,
   "metadata": {},
   "outputs": [],
   "source": [
    "# normalize date accepts the date string as shown in the df_melb 'Date' column,\n",
    "# and returns a data in a standarized format\n",
    "def standardize_date(d):\n",
    "    converted_timestamp = pd.to_datetime(d,dayfirst=True).to_pydatetime()\n",
    "    timestamp_obj = time.strptime(str(converted_timestamp),'%Y-%m-%d %H:%M:%S')\n",
    "    return int(time.mktime(timestamp_obj))"
   ]
  },
  {
   "cell_type": "code",
   "execution_count": 228,
   "metadata": {},
   "outputs": [],
   "source": [
    "df_melb['Date'] = df_melb['Date'].apply( standardize_date )\n",
    "df_melb['unixtime'] = df_melb['Date']\n",
    "df_melb = df_melb.drop(columns=\"Date\")\n"
   ]
  },
  {
   "cell_type": "markdown",
   "metadata": {},
   "source": [
    "## Q2 Calculating the prior probabilities\n",
    "Calculate the prior probabilities for each possible \"Type\" in `df_melb` and populate a dictionary, `dict_priors`, where the key is the possible \"Type\" values and the value is the prior probabilities. Show the dictionary. Do not hardcode the possible values of \"Type\".  Don't forget about [value counts](https://pandas.pydata.org/docs/reference/api/pandas.Series.value_counts.html). "
   ]
  },
  {
   "cell_type": "code",
   "execution_count": 229,
   "metadata": {},
   "outputs": [
    {
     "data": {
      "text/plain": [
       "{'h': 0.452, 'u': 0.418, 't': 0.13}"
      ]
     },
     "execution_count": 229,
     "metadata": {},
     "output_type": "execute_result"
    }
   ],
   "source": [
    "dict_priors = {df_melb['Type'].value_counts().index[i]:(df_melb['Type'].value_counts()[i])/(len(df_melb)) \n",
    "               for i in range(len(df_melb['Type'].value_counts()))}\n",
    "\n",
    "# # show the priors\n",
    "dict_priors"
   ]
  },
  {
   "cell_type": "markdown",
   "metadata": {},
   "source": [
    "## Q3 Create a model for the distribution of all of the numeric attributes\n",
    "For each class, and for each attribute calculate the sample mean and sample standard deviation.  You should store the model in a nested dictionary, `dict_nb_model`, such that `dict_nb_model['h']['Rooms']` is a tuple containing the mean and standard deviation for the target Type 'h' and the attribute 'Rooms'.  Show the model using the `display` function. You should ignore entries that are `NaN` in the mean and [standard deviation](https://pandas.pydata.org/docs/reference/api/pandas.Series.std.html) calculation. "
   ]
  },
  {
   "cell_type": "code",
   "execution_count": 230,
   "metadata": {},
   "outputs": [],
   "source": [
    "dict_nb_model = dict()\n",
    "for target in dict_priors.keys():\n",
    "    df_target = df_melb[df_melb['Type'] == target].drop([target_col], axis=1)\n",
    "    dict_nb_model[target] = {column:(df_target[column].std(), df_target[column].mean())\n",
    "                             for column in df_target.columns}"
   ]
  },
  {
   "cell_type": "code",
   "execution_count": 231,
   "metadata": {},
   "outputs": [
    {
     "data": {
      "text/plain": [
       "{'h': {'Rooms': (0.725826420112775, 3.269911504424779),\n",
       "  'Price': (586296.5794417894, 1189022.3451327435),\n",
       "  'Distance': (7.397501132737295, 12.086725663716816),\n",
       "  'Postcode': (98.35750345419703, 3103.8982300884954),\n",
       "  'Bathroom': (0.6720871086493074, 1.5619469026548674),\n",
       "  'Car': (0.932759177140425, 1.7777777777777777),\n",
       "  'Landsize': (3830.7934157687173, 932.9646017699115),\n",
       "  'BuildingArea': (54.62662837301433, 156.2433962264151),\n",
       "  'YearBuilt': (32.4618763471547, 1954.900826446281),\n",
       "  'unixtime': (13838422.086267864, 1485736247.7876105)},\n",
       " 'u': {'Rooms': (0.5908453859944255, 2.0430622009569377),\n",
       "  'Price': (217947.32866736987, 634207.1770334928),\n",
       "  'Distance': (5.609778714430756, 8.760287081339714),\n",
       "  'Postcode': (87.18475679946476, 3120.4545454545455),\n",
       "  'Bathroom': (0.4222815154866222, 1.1818181818181819),\n",
       "  'Car': (0.47231993860297056, 1.1483253588516746),\n",
       "  'Landsize': (1394.3403794653257, 436.23444976076553),\n",
       "  'BuildingArea': (45.95943801516662, 83.85585585585585),\n",
       "  'YearBuilt': (24.557291330642666, 1976.451388888889),\n",
       "  'unixtime': (13494527.971570639, 1484195408.61244)},\n",
       " 't': {'Rooms': (0.6052653582075831, 2.9076923076923076),\n",
       "  'Price': (421822.5363389936, 1000169.2307692308),\n",
       "  'Distance': (4.8704554754623866, 10.766153846153848),\n",
       "  'Postcode': (100.01588816090864, 3121.6153846153848),\n",
       "  'Bathroom': (0.565430401076506, 1.8461538461538463),\n",
       "  'Car': (0.5280588545286916, 1.6923076923076923),\n",
       "  'Landsize': (276.57700624711265, 268.18461538461537),\n",
       "  'BuildingArea': (53.49863705429014, 138.66666666666666),\n",
       "  'YearBuilt': (16.991774530381807, 1997.0227272727273),\n",
       "  'unixtime': (12639902.710181205, 1486544067.6923077)}}"
      ]
     },
     "metadata": {},
     "output_type": "display_data"
    }
   ],
   "source": [
    "display(dict_nb_model)"
   ]
  },
  {
   "cell_type": "markdown",
   "metadata": {},
   "source": [
    "## Q4 Write a function that calculates the probability of a Gaussian\n",
    "Given the mean ($\\mu$), standard deviation ($\\sigma$), and a observed point, `x`, return the probability.  \n",
    "Use the formula $p(x) = \\frac{1}{\\sigma \\sqrt{2 \\pi}} e^{-\\frac{1}{2}(\\frac{x-\\mu}{\\sigma})^2}$ ([wiki](https://en.wikipedia.org/wiki/Normal_distribution)).  You should use [numpy's exp](https://numpy.org/doc/stable/reference/generated/numpy.exp.html) function in your solution. "
   ]
  },
  {
   "cell_type": "code",
   "execution_count": 232,
   "metadata": {},
   "outputs": [],
   "source": [
    "def get_p(mu, sigma, x):\n",
    "    coeff = 1/(sigma*np.sqrt(np.pi*2))\n",
    "    exponent = -0.5*(((x-mu)/sigma)**2)\n",
    "    return coeff*(np.exp(exponent))"
   ]
  },
  {
   "cell_type": "code",
   "execution_count": 233,
   "metadata": {},
   "outputs": [
    {
     "data": {
      "text/plain": [
       "0.19333405840142462"
      ]
     },
     "execution_count": 233,
     "metadata": {},
     "output_type": "execute_result"
    }
   ],
   "source": [
    "# Test it. You should get a value of 0.19333405840142462\n",
    "p = get_p( 0, 2, 0.5)\n",
    "p"
   ]
  },
  {
   "cell_type": "markdown",
   "metadata": {},
   "source": [
    "## Q5 Write the Naive Bayes classifier function\n",
    "The Naive Bayes classifier function, `nb_class`, should take as a parameter the prior probability dictionary. `dict_priors`, the dictionary containing all of the gaussian distribution information for each attribue, `dict_nb_model`, and a single observation row (a series generated from iterrows) of the test dataframe. It should return a single target classification. For this problem, all of our attributes are numeric and modeled as Gaussians, so we don't worry about categorical data. Make sure to skip attributes that do not have a value in the observation.  Do not hardcode the possible classification types. "
   ]
  },
  {
   "cell_type": "code",
   "execution_count": 234,
   "metadata": {},
   "outputs": [],
   "source": [
    "def nb_class(dict_priors, dict_nb_model, observation):\n",
    "    conditional_prob_dict = {key:dict_priors[key] for key in dict_priors.keys()}\n",
    "    for type in dict_priors.keys():\n",
    "        for feature in dict_nb_model[type].keys():\n",
    "            if pd.notnull(observation[feature]):\n",
    "                sigma = dict_nb_model[type][feature][0]\n",
    "                mu = dict_nb_model[type][feature][1]\n",
    "                x_n = observation[feature]\n",
    "                conditional_prob_dict[type] *= get_p(mu, sigma, x_n)\n",
    "    return max(conditional_prob_dict, key=conditional_prob_dict.get)"
   ]
  },
  {
   "cell_type": "markdown",
   "metadata": {},
   "source": [
    "## Q6 Calculate the accuracy using Naive Bayes classifier function on the test set\n",
    "Load the test set from file, convert date to unix time and drop the date column, classify each row using your `nb_class`, and then show the accuracy on the test set. "
   ]
  },
  {
   "cell_type": "code",
   "execution_count": 235,
   "metadata": {},
   "outputs": [
    {
     "data": {
      "text/html": [
       "<div>\n",
       "<style scoped>\n",
       "    .dataframe tbody tr th:only-of-type {\n",
       "        vertical-align: middle;\n",
       "    }\n",
       "\n",
       "    .dataframe tbody tr th {\n",
       "        vertical-align: top;\n",
       "    }\n",
       "\n",
       "    .dataframe thead th {\n",
       "        text-align: right;\n",
       "    }\n",
       "</style>\n",
       "<table border=\"1\" class=\"dataframe\">\n",
       "  <thead>\n",
       "    <tr style=\"text-align: right;\">\n",
       "      <th></th>\n",
       "      <th>Rooms</th>\n",
       "      <th>Type</th>\n",
       "      <th>Price</th>\n",
       "      <th>Distance</th>\n",
       "      <th>Postcode</th>\n",
       "      <th>Bathroom</th>\n",
       "      <th>Car</th>\n",
       "      <th>Landsize</th>\n",
       "      <th>BuildingArea</th>\n",
       "      <th>YearBuilt</th>\n",
       "      <th>unixtime</th>\n",
       "    </tr>\n",
       "  </thead>\n",
       "  <tbody>\n",
       "    <tr>\n",
       "      <th>0</th>\n",
       "      <td>3</td>\n",
       "      <td>h</td>\n",
       "      <td>1116000</td>\n",
       "      <td>17.9</td>\n",
       "      <td>3192</td>\n",
       "      <td>1</td>\n",
       "      <td>2.0</td>\n",
       "      <td>610</td>\n",
       "      <td>NaN</td>\n",
       "      <td>NaN</td>\n",
       "      <td>1498885200</td>\n",
       "    </tr>\n",
       "    <tr>\n",
       "      <th>1</th>\n",
       "      <td>3</td>\n",
       "      <td>h</td>\n",
       "      <td>2030000</td>\n",
       "      <td>11.2</td>\n",
       "      <td>3186</td>\n",
       "      <td>2</td>\n",
       "      <td>2.0</td>\n",
       "      <td>366</td>\n",
       "      <td>NaN</td>\n",
       "      <td>NaN</td>\n",
       "      <td>1472360400</td>\n",
       "    </tr>\n",
       "    <tr>\n",
       "      <th>2</th>\n",
       "      <td>3</td>\n",
       "      <td>h</td>\n",
       "      <td>1480000</td>\n",
       "      <td>10.7</td>\n",
       "      <td>3187</td>\n",
       "      <td>2</td>\n",
       "      <td>2.0</td>\n",
       "      <td>697</td>\n",
       "      <td>143.0</td>\n",
       "      <td>1925.0</td>\n",
       "      <td>1478498400</td>\n",
       "    </tr>\n",
       "    <tr>\n",
       "      <th>3</th>\n",
       "      <td>3</td>\n",
       "      <td>u</td>\n",
       "      <td>1203500</td>\n",
       "      <td>12.3</td>\n",
       "      <td>3166</td>\n",
       "      <td>2</td>\n",
       "      <td>2.0</td>\n",
       "      <td>311</td>\n",
       "      <td>127.0</td>\n",
       "      <td>2000.0</td>\n",
       "      <td>1495861200</td>\n",
       "    </tr>\n",
       "    <tr>\n",
       "      <th>4</th>\n",
       "      <td>3</td>\n",
       "      <td>h</td>\n",
       "      <td>540000</td>\n",
       "      <td>14.7</td>\n",
       "      <td>3030</td>\n",
       "      <td>2</td>\n",
       "      <td>2.0</td>\n",
       "      <td>353</td>\n",
       "      <td>135.0</td>\n",
       "      <td>2011.0</td>\n",
       "      <td>1504414800</td>\n",
       "    </tr>\n",
       "  </tbody>\n",
       "</table>\n",
       "</div>"
      ],
      "text/plain": [
       "   Rooms Type    Price  Distance  Postcode  Bathroom  Car  Landsize  \\\n",
       "0      3    h  1116000      17.9      3192         1  2.0       610   \n",
       "1      3    h  2030000      11.2      3186         2  2.0       366   \n",
       "2      3    h  1480000      10.7      3187         2  2.0       697   \n",
       "3      3    u  1203500      12.3      3166         2  2.0       311   \n",
       "4      3    h   540000      14.7      3030         2  2.0       353   \n",
       "\n",
       "   BuildingArea  YearBuilt    unixtime  \n",
       "0           NaN        NaN  1498885200  \n",
       "1           NaN        NaN  1472360400  \n",
       "2         143.0     1925.0  1478498400  \n",
       "3         127.0     2000.0  1495861200  \n",
       "4         135.0     2011.0  1504414800  "
      ]
     },
     "execution_count": 235,
     "metadata": {},
     "output_type": "execute_result"
    }
   ],
   "source": [
    "df_test = pd.read_csv('https://gist.githubusercontent.com/yanyanzheng96/c3d53303cebbd986b166591d19254bac/raw/94eb3b2d500d5f7bbc0441a8419cd855349d5d8e/melb_data_test.csv')\n",
    "df_test['Date'] = df_test['Date'].apply( standardize_date )\n",
    "df_test['unixtime'] = df_test['Date']\n",
    "df_test = df_test.drop(columns=\"Date\")\n",
    "df_test.head()"
   ]
  },
  {
   "cell_type": "code",
   "execution_count": 236,
   "metadata": {},
   "outputs": [],
   "source": [
    "predictions = []\n",
    "for (indx,row) in df_test.iterrows():\n",
    "    predictions.append(nb_class(dict_priors, dict_nb_model, row))"
   ]
  },
  {
   "cell_type": "code",
   "execution_count": 237,
   "metadata": {},
   "outputs": [],
   "source": [
    "def get_acc(s_1, s_2):\n",
    "    return sum(s_1 == s_2)/len(s_1)\n",
    "\n",
    "acc = get_acc(np.array(predictions), df_test['Type'])"
   ]
  },
  {
   "cell_type": "code",
   "execution_count": 238,
   "metadata": {},
   "outputs": [
    {
     "name": "stdout",
     "output_type": "stream",
     "text": [
      "Accuracy is 57.00%\n"
     ]
    }
   ],
   "source": [
    "# You should get and accuracy of 57.00%\n",
    "print('Accuracy is {:.2f}%'.format(acc*100))"
   ]
  },
  {
   "cell_type": "markdown",
   "metadata": {},
   "source": [
    "## Use scikit-learn to do the same thing!\n",
    "\n",
    "Now we understand the inner workings of the Naive Bayes algorithm, let's compare our results to [scikit-learn's Naive Bayes](https://scikit-learn.org/stable/modules/naive_bayes.html) implementation. Use the [GaussianNB](https://scikit-learn.org/stable/modules/naive_bayes.html#gaussian-naive-bayes) to train using the `df_melb`dataframe and test using the `df_test` dataframe. Remember to split `df_melb` into a `df_X` with the numerical attributes, and a `s_y` with the target column. On the `df_melb` frame you will have to fill the empty attributes via imputation since the scikit-learn library can not handle missing values.  Use the same method you used in the last homework (filling the training data with the mean of the non-nan values). \n",
    "\n",
    "Answer the following in a markdown cell: do you think imputation hurt or helped the classifier?"
   ]
  },
  {
   "cell_type": "code",
   "execution_count": 239,
   "metadata": {},
   "outputs": [],
   "source": [
    "# Imputation training\n",
    "dict_imputation = dict()\n",
    "\n",
    "df_X, s_y  = df_melb.drop(columns=['Type']), df_melb['Type'] \n",
    "\n",
    "# Imputation - apply on the test data\n",
    "for col in df_X.columns:\n",
    "    dict_imputation[col] = df_X[col].mean()\n",
    "    df_X[col].fillna(dict_imputation[col],inplace=True)\n",
    "\n",
    "\n",
    "# Seperate the attributes from the target_col\n",
    "df_X_test, s_y_test = df_test.drop(columns=['Type']), df_test['Type']\n",
    "for col in df_X_test.columns:\n",
    "    df_X_test[col].fillna(dict_imputation[col],inplace=True)"
   ]
  },
  {
   "cell_type": "code",
   "execution_count": 240,
   "metadata": {},
   "outputs": [],
   "source": [
    "gnb = GaussianNB()\n",
    "s_y_pred = gnb.fit(df_X, s_y).predict(df_X_test)"
   ]
  },
  {
   "cell_type": "code",
   "execution_count": 241,
   "metadata": {},
   "outputs": [
    {
     "name": "stdout",
     "output_type": "stream",
     "text": [
      "Accuracy is 37.00%\n"
     ]
    }
   ],
   "source": [
    "acc = get_acc(np.array(s_y_pred), s_y_test)\n",
    "print('Accuracy is {:.2f}%'.format(acc*100))"
   ]
  },
  {
   "attachments": {},
   "cell_type": "markdown",
   "metadata": {},
   "source": [
    "## ANSWER TO \"do you think imputation hurt or helped the classifier?\" \n",
    "### The imputation definetly hurt the classifier because the accuracy reduced by nearly 20%"
   ]
  }
 ],
 "metadata": {
  "kernelspec": {
   "display_name": "Python 3 (ipykernel)",
   "language": "python",
   "name": "python3"
  },
  "language_info": {
   "codemirror_mode": {
    "name": "ipython",
    "version": 3
   },
   "file_extension": ".py",
   "mimetype": "text/x-python",
   "name": "python",
   "nbconvert_exporter": "python",
   "pygments_lexer": "ipython3",
   "version": "3.9.13"
  }
 },
 "nbformat": 4,
 "nbformat_minor": 4
}
